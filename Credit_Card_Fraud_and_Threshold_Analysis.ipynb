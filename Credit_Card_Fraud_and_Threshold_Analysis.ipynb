{
 "cells": [
  {
   "cell_type": "markdown",
   "id": "bac151ca",
   "metadata": {},
   "source": [
    "<h2> Analysis Highlights: </h2>\n",
    "<h4> This analysis will be using logistic regression, SVC and XGBoost models, and changing threshold to acquire the impact results on recall and f1 scores, which are important to fraud detection applications, and reduces the occurrence of false negatives.</h4>"
   ]
  },
  {
   "cell_type": "markdown",
   "id": "db5f5de7",
   "metadata": {},
   "source": [
    "#### Load the data"
   ]
  },
  {
   "cell_type": "code",
   "execution_count": 1,
   "id": "4765b087",
   "metadata": {},
   "outputs": [],
   "source": [
    "import numpy as np\n",
    "import pandas as pd"
   ]
  },
  {
   "cell_type": "code",
   "execution_count": 2,
   "id": "615e3b51",
   "metadata": {},
   "outputs": [],
   "source": [
    "df_test = pd.read_csv(r'C:\\Users\\Jey\\Documents\\Analyst Dataset\\CreditCard_fraudTest.csv')\n",
    "df_train = pd.read_csv(r'C:\\Users\\Jey\\Documents\\Analyst Dataset\\CreditCard_fraudTrain.csv')"
   ]
  },
  {
   "cell_type": "code",
   "execution_count": 3,
   "id": "24edb070",
   "metadata": {},
   "outputs": [
    {
     "name": "stdout",
     "output_type": "stream",
     "text": [
      "555719 1296675\n"
     ]
    }
   ],
   "source": [
    "print(len(df_test), len(df_train))"
   ]
  },
  {
   "cell_type": "code",
   "execution_count": 4,
   "id": "77842f71",
   "metadata": {},
   "outputs": [
    {
     "data": {
      "text/plain": [
       "1852394"
      ]
     },
     "execution_count": 4,
     "metadata": {},
     "output_type": "execute_result"
    }
   ],
   "source": [
    "#combine both data dataframes, test and train by joining union operation\n",
    "df = pd.concat([df_train, df_test])\n",
    "len(df)"
   ]
  },
  {
   "cell_type": "code",
   "execution_count": 5,
   "id": "3deea7cf",
   "metadata": {},
   "outputs": [
    {
     "data": {
      "text/html": [
       "<div>\n",
       "<style scoped>\n",
       "    .dataframe tbody tr th:only-of-type {\n",
       "        vertical-align: middle;\n",
       "    }\n",
       "\n",
       "    .dataframe tbody tr th {\n",
       "        vertical-align: top;\n",
       "    }\n",
       "\n",
       "    .dataframe thead th {\n",
       "        text-align: right;\n",
       "    }\n",
       "</style>\n",
       "<table border=\"1\" class=\"dataframe\">\n",
       "  <thead>\n",
       "    <tr style=\"text-align: right;\">\n",
       "      <th></th>\n",
       "      <th>Unnamed: 0</th>\n",
       "      <th>trans_date_trans_time</th>\n",
       "      <th>cc_num</th>\n",
       "      <th>merchant</th>\n",
       "      <th>category</th>\n",
       "      <th>amt</th>\n",
       "      <th>first</th>\n",
       "      <th>last</th>\n",
       "      <th>gender</th>\n",
       "      <th>street</th>\n",
       "      <th>...</th>\n",
       "      <th>lat</th>\n",
       "      <th>long</th>\n",
       "      <th>city_pop</th>\n",
       "      <th>job</th>\n",
       "      <th>dob</th>\n",
       "      <th>trans_num</th>\n",
       "      <th>unix_time</th>\n",
       "      <th>merch_lat</th>\n",
       "      <th>merch_long</th>\n",
       "      <th>is_fraud</th>\n",
       "    </tr>\n",
       "  </thead>\n",
       "  <tbody>\n",
       "    <tr>\n",
       "      <th>0</th>\n",
       "      <td>0</td>\n",
       "      <td>2019-01-01 00:00:18</td>\n",
       "      <td>2703186189652095</td>\n",
       "      <td>fraud_Rippin, Kub and Mann</td>\n",
       "      <td>misc_net</td>\n",
       "      <td>4.97</td>\n",
       "      <td>Jennifer</td>\n",
       "      <td>Banks</td>\n",
       "      <td>F</td>\n",
       "      <td>561 Perry Cove</td>\n",
       "      <td>...</td>\n",
       "      <td>36.0788</td>\n",
       "      <td>-81.1781</td>\n",
       "      <td>3495</td>\n",
       "      <td>Psychologist, counselling</td>\n",
       "      <td>1988-03-09</td>\n",
       "      <td>0b242abb623afc578575680df30655b9</td>\n",
       "      <td>1325376018</td>\n",
       "      <td>36.011293</td>\n",
       "      <td>-82.048315</td>\n",
       "      <td>0</td>\n",
       "    </tr>\n",
       "    <tr>\n",
       "      <th>1</th>\n",
       "      <td>1</td>\n",
       "      <td>2019-01-01 00:00:44</td>\n",
       "      <td>630423337322</td>\n",
       "      <td>fraud_Heller, Gutmann and Zieme</td>\n",
       "      <td>grocery_pos</td>\n",
       "      <td>107.23</td>\n",
       "      <td>Stephanie</td>\n",
       "      <td>Gill</td>\n",
       "      <td>F</td>\n",
       "      <td>43039 Riley Greens Suite 393</td>\n",
       "      <td>...</td>\n",
       "      <td>48.8878</td>\n",
       "      <td>-118.2105</td>\n",
       "      <td>149</td>\n",
       "      <td>Special educational needs teacher</td>\n",
       "      <td>1978-06-21</td>\n",
       "      <td>1f76529f8574734946361c461b024d99</td>\n",
       "      <td>1325376044</td>\n",
       "      <td>49.159047</td>\n",
       "      <td>-118.186462</td>\n",
       "      <td>0</td>\n",
       "    </tr>\n",
       "    <tr>\n",
       "      <th>2</th>\n",
       "      <td>2</td>\n",
       "      <td>2019-01-01 00:00:51</td>\n",
       "      <td>38859492057661</td>\n",
       "      <td>fraud_Lind-Buckridge</td>\n",
       "      <td>entertainment</td>\n",
       "      <td>220.11</td>\n",
       "      <td>Edward</td>\n",
       "      <td>Sanchez</td>\n",
       "      <td>M</td>\n",
       "      <td>594 White Dale Suite 530</td>\n",
       "      <td>...</td>\n",
       "      <td>42.1808</td>\n",
       "      <td>-112.2620</td>\n",
       "      <td>4154</td>\n",
       "      <td>Nature conservation officer</td>\n",
       "      <td>1962-01-19</td>\n",
       "      <td>a1a22d70485983eac12b5b88dad1cf95</td>\n",
       "      <td>1325376051</td>\n",
       "      <td>43.150704</td>\n",
       "      <td>-112.154481</td>\n",
       "      <td>0</td>\n",
       "    </tr>\n",
       "    <tr>\n",
       "      <th>3</th>\n",
       "      <td>3</td>\n",
       "      <td>2019-01-01 00:01:16</td>\n",
       "      <td>3534093764340240</td>\n",
       "      <td>fraud_Kutch, Hermiston and Farrell</td>\n",
       "      <td>gas_transport</td>\n",
       "      <td>45.00</td>\n",
       "      <td>Jeremy</td>\n",
       "      <td>White</td>\n",
       "      <td>M</td>\n",
       "      <td>9443 Cynthia Court Apt. 038</td>\n",
       "      <td>...</td>\n",
       "      <td>46.2306</td>\n",
       "      <td>-112.1138</td>\n",
       "      <td>1939</td>\n",
       "      <td>Patent attorney</td>\n",
       "      <td>1967-01-12</td>\n",
       "      <td>6b849c168bdad6f867558c3793159a81</td>\n",
       "      <td>1325376076</td>\n",
       "      <td>47.034331</td>\n",
       "      <td>-112.561071</td>\n",
       "      <td>0</td>\n",
       "    </tr>\n",
       "    <tr>\n",
       "      <th>4</th>\n",
       "      <td>4</td>\n",
       "      <td>2019-01-01 00:03:06</td>\n",
       "      <td>375534208663984</td>\n",
       "      <td>fraud_Keeling-Crist</td>\n",
       "      <td>misc_pos</td>\n",
       "      <td>41.96</td>\n",
       "      <td>Tyler</td>\n",
       "      <td>Garcia</td>\n",
       "      <td>M</td>\n",
       "      <td>408 Bradley Rest</td>\n",
       "      <td>...</td>\n",
       "      <td>38.4207</td>\n",
       "      <td>-79.4629</td>\n",
       "      <td>99</td>\n",
       "      <td>Dance movement psychotherapist</td>\n",
       "      <td>1986-03-28</td>\n",
       "      <td>a41d7549acf90789359a9aa5346dcb46</td>\n",
       "      <td>1325376186</td>\n",
       "      <td>38.674999</td>\n",
       "      <td>-78.632459</td>\n",
       "      <td>0</td>\n",
       "    </tr>\n",
       "  </tbody>\n",
       "</table>\n",
       "<p>5 rows × 23 columns</p>\n",
       "</div>"
      ],
      "text/plain": [
       "   Unnamed: 0 trans_date_trans_time            cc_num  \\\n",
       "0           0   2019-01-01 00:00:18  2703186189652095   \n",
       "1           1   2019-01-01 00:00:44      630423337322   \n",
       "2           2   2019-01-01 00:00:51    38859492057661   \n",
       "3           3   2019-01-01 00:01:16  3534093764340240   \n",
       "4           4   2019-01-01 00:03:06   375534208663984   \n",
       "\n",
       "                             merchant       category     amt      first  \\\n",
       "0          fraud_Rippin, Kub and Mann       misc_net    4.97   Jennifer   \n",
       "1     fraud_Heller, Gutmann and Zieme    grocery_pos  107.23  Stephanie   \n",
       "2                fraud_Lind-Buckridge  entertainment  220.11     Edward   \n",
       "3  fraud_Kutch, Hermiston and Farrell  gas_transport   45.00     Jeremy   \n",
       "4                 fraud_Keeling-Crist       misc_pos   41.96      Tyler   \n",
       "\n",
       "      last gender                        street  ...      lat      long  \\\n",
       "0    Banks      F                561 Perry Cove  ...  36.0788  -81.1781   \n",
       "1     Gill      F  43039 Riley Greens Suite 393  ...  48.8878 -118.2105   \n",
       "2  Sanchez      M      594 White Dale Suite 530  ...  42.1808 -112.2620   \n",
       "3    White      M   9443 Cynthia Court Apt. 038  ...  46.2306 -112.1138   \n",
       "4   Garcia      M              408 Bradley Rest  ...  38.4207  -79.4629   \n",
       "\n",
       "   city_pop                                job         dob  \\\n",
       "0      3495          Psychologist, counselling  1988-03-09   \n",
       "1       149  Special educational needs teacher  1978-06-21   \n",
       "2      4154        Nature conservation officer  1962-01-19   \n",
       "3      1939                    Patent attorney  1967-01-12   \n",
       "4        99     Dance movement psychotherapist  1986-03-28   \n",
       "\n",
       "                          trans_num   unix_time  merch_lat  merch_long  \\\n",
       "0  0b242abb623afc578575680df30655b9  1325376018  36.011293  -82.048315   \n",
       "1  1f76529f8574734946361c461b024d99  1325376044  49.159047 -118.186462   \n",
       "2  a1a22d70485983eac12b5b88dad1cf95  1325376051  43.150704 -112.154481   \n",
       "3  6b849c168bdad6f867558c3793159a81  1325376076  47.034331 -112.561071   \n",
       "4  a41d7549acf90789359a9aa5346dcb46  1325376186  38.674999  -78.632459   \n",
       "\n",
       "   is_fraud  \n",
       "0         0  \n",
       "1         0  \n",
       "2         0  \n",
       "3         0  \n",
       "4         0  \n",
       "\n",
       "[5 rows x 23 columns]"
      ]
     },
     "execution_count": 5,
     "metadata": {},
     "output_type": "execute_result"
    }
   ],
   "source": [
    "df.head()"
   ]
  },
  {
   "cell_type": "markdown",
   "id": "34c4d162",
   "metadata": {},
   "source": [
    "#### Data Understanding and Exploration"
   ]
  },
  {
   "cell_type": "code",
   "execution_count": 6,
   "id": "79c859f5",
   "metadata": {},
   "outputs": [],
   "source": [
    "import seaborn as sns\n",
    "import matplotlib.pyplot as plt"
   ]
  },
  {
   "cell_type": "code",
   "execution_count": 7,
   "id": "abebbb1f",
   "metadata": {},
   "outputs": [
    {
     "data": {
      "text/plain": [
       "<AxesSubplot:xlabel='is_fraud'>"
      ]
     },
     "execution_count": 7,
     "metadata": {},
     "output_type": "execute_result"
    },
    {
     "data": {
      "image/png": "[encoded data removed]",
      "text/plain": [
       "<Figure size 640x480 with 1 Axes>"
      ]
     },
     "metadata": {},
     "output_type": "display_data"
    }
   ],
   "source": [
    "df.groupby('is_fraud').count()['cc_num'].plot.bar()"
   ]
  },
  {
   "cell_type": "markdown",
   "id": "6d41804f",
   "metadata": {},
   "source": [
    "* Summary, the number of fraudulent transactions is much smaller, which leads the model to predict non faudulent (0) with higher performance than fraud (1) transaction"
   ]
  },
  {
   "cell_type": "code",
   "execution_count": 8,
   "id": "dddf950b",
   "metadata": {},
   "outputs": [
    {
     "name": "stdout",
     "output_type": "stream",
     "text": [
      "9651 1842743\n"
     ]
    }
   ],
   "source": [
    "fraud = df[df['is_fraud'] == 1]\n",
    "non_fraud = df[df['is_fraud'] == 0]\n",
    "print(len(fraud), len(non_fraud))"
   ]
  },
  {
   "cell_type": "code",
   "execution_count": 9,
   "id": "0b4bc9a3",
   "metadata": {},
   "outputs": [
    {
     "data": {
      "text/html": [
       "<div>\n",
       "<style scoped>\n",
       "    .dataframe tbody tr th:only-of-type {\n",
       "        vertical-align: middle;\n",
       "    }\n",
       "\n",
       "    .dataframe tbody tr th {\n",
       "        vertical-align: top;\n",
       "    }\n",
       "\n",
       "    .dataframe thead th {\n",
       "        text-align: right;\n",
       "    }\n",
       "</style>\n",
       "<table border=\"1\" class=\"dataframe\">\n",
       "  <thead>\n",
       "    <tr style=\"text-align: right;\">\n",
       "      <th></th>\n",
       "      <th>Unnamed: 0</th>\n",
       "      <th>cc_num</th>\n",
       "      <th>amt</th>\n",
       "      <th>zip</th>\n",
       "      <th>lat</th>\n",
       "      <th>long</th>\n",
       "      <th>city_pop</th>\n",
       "      <th>unix_time</th>\n",
       "      <th>merch_lat</th>\n",
       "      <th>merch_long</th>\n",
       "      <th>is_fraud</th>\n",
       "    </tr>\n",
       "  </thead>\n",
       "  <tbody>\n",
       "    <tr>\n",
       "      <th>count</th>\n",
       "      <td>1.852394e+06</td>\n",
       "      <td>1.852394e+06</td>\n",
       "      <td>1.852394e+06</td>\n",
       "      <td>1.852394e+06</td>\n",
       "      <td>1.852394e+06</td>\n",
       "      <td>1.852394e+06</td>\n",
       "      <td>1.852394e+06</td>\n",
       "      <td>1.852394e+06</td>\n",
       "      <td>1.852394e+06</td>\n",
       "      <td>1.852394e+06</td>\n",
       "      <td>1.852394e+06</td>\n",
       "    </tr>\n",
       "    <tr>\n",
       "      <th>mean</th>\n",
       "      <td>5.371934e+05</td>\n",
       "      <td>4.173860e+17</td>\n",
       "      <td>7.006357e+01</td>\n",
       "      <td>4.881326e+04</td>\n",
       "      <td>3.853931e+01</td>\n",
       "      <td>-9.022783e+01</td>\n",
       "      <td>8.864367e+04</td>\n",
       "      <td>1.358674e+09</td>\n",
       "      <td>3.853898e+01</td>\n",
       "      <td>-9.022794e+01</td>\n",
       "      <td>5.210015e-03</td>\n",
       "    </tr>\n",
       "    <tr>\n",
       "      <th>std</th>\n",
       "      <td>3.669110e+05</td>\n",
       "      <td>1.309115e+18</td>\n",
       "      <td>1.592540e+02</td>\n",
       "      <td>2.688185e+04</td>\n",
       "      <td>5.071470e+00</td>\n",
       "      <td>1.374789e+01</td>\n",
       "      <td>3.014876e+05</td>\n",
       "      <td>1.819508e+07</td>\n",
       "      <td>5.105604e+00</td>\n",
       "      <td>1.375969e+01</td>\n",
       "      <td>7.199217e-02</td>\n",
       "    </tr>\n",
       "    <tr>\n",
       "      <th>min</th>\n",
       "      <td>0.000000e+00</td>\n",
       "      <td>6.041621e+10</td>\n",
       "      <td>1.000000e+00</td>\n",
       "      <td>1.257000e+03</td>\n",
       "      <td>2.002710e+01</td>\n",
       "      <td>-1.656723e+02</td>\n",
       "      <td>2.300000e+01</td>\n",
       "      <td>1.325376e+09</td>\n",
       "      <td>1.902742e+01</td>\n",
       "      <td>-1.666716e+02</td>\n",
       "      <td>0.000000e+00</td>\n",
       "    </tr>\n",
       "    <tr>\n",
       "      <th>25%</th>\n",
       "      <td>2.315490e+05</td>\n",
       "      <td>1.800429e+14</td>\n",
       "      <td>9.640000e+00</td>\n",
       "      <td>2.623700e+04</td>\n",
       "      <td>3.466890e+01</td>\n",
       "      <td>-9.679800e+01</td>\n",
       "      <td>7.410000e+02</td>\n",
       "      <td>1.343017e+09</td>\n",
       "      <td>3.474012e+01</td>\n",
       "      <td>-9.689944e+01</td>\n",
       "      <td>0.000000e+00</td>\n",
       "    </tr>\n",
       "    <tr>\n",
       "      <th>50%</th>\n",
       "      <td>4.630980e+05</td>\n",
       "      <td>3.521417e+15</td>\n",
       "      <td>4.745000e+01</td>\n",
       "      <td>4.817400e+04</td>\n",
       "      <td>3.935430e+01</td>\n",
       "      <td>-8.747690e+01</td>\n",
       "      <td>2.443000e+03</td>\n",
       "      <td>1.357089e+09</td>\n",
       "      <td>3.936890e+01</td>\n",
       "      <td>-8.744069e+01</td>\n",
       "      <td>0.000000e+00</td>\n",
       "    </tr>\n",
       "    <tr>\n",
       "      <th>75%</th>\n",
       "      <td>8.335758e+05</td>\n",
       "      <td>4.642255e+15</td>\n",
       "      <td>8.310000e+01</td>\n",
       "      <td>7.204200e+04</td>\n",
       "      <td>4.194040e+01</td>\n",
       "      <td>-8.015800e+01</td>\n",
       "      <td>2.032800e+04</td>\n",
       "      <td>1.374581e+09</td>\n",
       "      <td>4.195626e+01</td>\n",
       "      <td>-8.024511e+01</td>\n",
       "      <td>0.000000e+00</td>\n",
       "    </tr>\n",
       "    <tr>\n",
       "      <th>max</th>\n",
       "      <td>1.296674e+06</td>\n",
       "      <td>4.992346e+18</td>\n",
       "      <td>2.894890e+04</td>\n",
       "      <td>9.992100e+04</td>\n",
       "      <td>6.669330e+01</td>\n",
       "      <td>-6.795030e+01</td>\n",
       "      <td>2.906700e+06</td>\n",
       "      <td>1.388534e+09</td>\n",
       "      <td>6.751027e+01</td>\n",
       "      <td>-6.695090e+01</td>\n",
       "      <td>1.000000e+00</td>\n",
       "    </tr>\n",
       "  </tbody>\n",
       "</table>\n",
       "</div>"
      ],
      "text/plain": [
       "         Unnamed: 0        cc_num           amt           zip           lat  \\\n",
       "count  1.852394e+06  1.852394e+06  1.852394e+06  1.852394e+06  1.852394e+06   \n",
       "mean   5.371934e+05  4.173860e+17  7.006357e+01  4.881326e+04  3.853931e+01   \n",
       "std    3.669110e+05  1.309115e+18  1.592540e+02  2.688185e+04  5.071470e+00   \n",
       "min    0.000000e+00  6.041621e+10  1.000000e+00  1.257000e+03  2.002710e+01   \n",
       "25%    2.315490e+05  1.800429e+14  9.640000e+00  2.623700e+04  3.466890e+01   \n",
       "50%    4.630980e+05  3.521417e+15  4.745000e+01  4.817400e+04  3.935430e+01   \n",
       "75%    8.335758e+05  4.642255e+15  8.310000e+01  7.204200e+04  4.194040e+01   \n",
       "max    1.296674e+06  4.992346e+18  2.894890e+04  9.992100e+04  6.669330e+01   \n",
       "\n",
       "               long      city_pop     unix_time     merch_lat    merch_long  \\\n",
       "count  1.852394e+06  1.852394e+06  1.852394e+06  1.852394e+06  1.852394e+06   \n",
       "mean  -9.022783e+01  8.864367e+04  1.358674e+09  3.853898e+01 -9.022794e+01   \n",
       "std    1.374789e+01  3.014876e+05  1.819508e+07  5.105604e+00  1.375969e+01   \n",
       "min   -1.656723e+02  2.300000e+01  1.325376e+09  1.902742e+01 -1.666716e+02   \n",
       "25%   -9.679800e+01  7.410000e+02  1.343017e+09  3.474012e+01 -9.689944e+01   \n",
       "50%   -8.747690e+01  2.443000e+03  1.357089e+09  3.936890e+01 -8.744069e+01   \n",
       "75%   -8.015800e+01  2.032800e+04  1.374581e+09  4.195626e+01 -8.024511e+01   \n",
       "max   -6.795030e+01  2.906700e+06  1.388534e+09  6.751027e+01 -6.695090e+01   \n",
       "\n",
       "           is_fraud  \n",
       "count  1.852394e+06  \n",
       "mean   5.210015e-03  \n",
       "std    7.199217e-02  \n",
       "min    0.000000e+00  \n",
       "25%    0.000000e+00  \n",
       "50%    0.000000e+00  \n",
       "75%    0.000000e+00  \n",
       "max    1.000000e+00  "
      ]
     },
     "execution_count": 9,
     "metadata": {},
     "output_type": "execute_result"
    }
   ],
   "source": [
    "df.describe()"
   ]
  },
  {
   "cell_type": "code",
   "execution_count": 10,
   "id": "f00303fe",
   "metadata": {},
   "outputs": [
    {
     "name": "stdout",
     "output_type": "stream",
     "text": [
      "<class 'pandas.core.frame.DataFrame'>\n",
      "Int64Index: 1852394 entries, 0 to 555718\n",
      "Data columns (total 23 columns):\n",
      " #   Column                 Dtype  \n",
      "---  ------                 -----  \n",
      " 0   Unnamed: 0             int64  \n",
      " 1   trans_date_trans_time  object \n",
      " 2   cc_num                 int64  \n",
      " 3   merchant               object \n",
      " 4   category               object \n",
      " 5   amt                    float64\n",
      " 6   first                  object \n",
      " 7   last                   object \n",
      " 8   gender                 object \n",
      " 9   street                 object \n",
      " 10  city                   object \n",
      " 11  state                  object \n",
      " 12  zip                    int64  \n",
      " 13  lat                    float64\n",
      " 14  long                   float64\n",
      " 15  city_pop               int64  \n",
      " 16  job                    object \n",
      " 17  dob                    object \n",
      " 18  trans_num              object \n",
      " 19  unix_time              int64  \n",
      " 20  merch_lat              float64\n",
      " 21  merch_long             float64\n",
      " 22  is_fraud               int64  \n",
      "dtypes: float64(5), int64(6), object(12)\n",
      "memory usage: 339.2+ MB\n"
     ]
    }
   ],
   "source": [
    "df.info()"
   ]
  },
  {
   "cell_type": "code",
   "execution_count": 11,
   "id": "620795cc",
   "metadata": {},
   "outputs": [
    {
     "data": {
      "text/plain": [
       "Unnamed: 0               1296675\n",
       "trans_date_trans_time    1819551\n",
       "cc_num                       999\n",
       "merchant                     693\n",
       "category                      14\n",
       "amt                        60616\n",
       "first                        355\n",
       "last                         486\n",
       "gender                         2\n",
       "street                       999\n",
       "city                         906\n",
       "state                         51\n",
       "zip                          985\n",
       "lat                          983\n",
       "long                         983\n",
       "city_pop                     891\n",
       "job                          497\n",
       "dob                          984\n",
       "trans_num                1852394\n",
       "unix_time                1819583\n",
       "merch_lat                1754157\n",
       "merch_long               1809753\n",
       "is_fraud                       2\n",
       "dtype: int64"
      ]
     },
     "execution_count": 11,
     "metadata": {},
     "output_type": "execute_result"
    }
   ],
   "source": [
    "#checking distinct\n",
    "df.nunique()"
   ]
  },
  {
   "cell_type": "code",
   "execution_count": 12,
   "id": "a15a2afa",
   "metadata": {},
   "outputs": [
    {
     "data": {
      "text/plain": [
       "0"
      ]
     },
     "execution_count": 12,
     "metadata": {},
     "output_type": "execute_result"
    }
   ],
   "source": [
    "#checking for null/NAN and duplicated cells\n",
    "df.isna().sum().sum()"
   ]
  },
  {
   "cell_type": "code",
   "execution_count": 13,
   "id": "54ece5f3",
   "metadata": {},
   "outputs": [
    {
     "data": {
      "text/plain": [
       "0"
      ]
     },
     "execution_count": 13,
     "metadata": {},
     "output_type": "execute_result"
    }
   ],
   "source": [
    "df.duplicated().sum()"
   ]
  },
  {
   "cell_type": "code",
   "execution_count": 14,
   "id": "3ad23e78",
   "metadata": {},
   "outputs": [
    {
     "data": {
      "text/plain": [
       "<AxesSubplot:>"
      ]
     },
     "execution_count": 14,
     "metadata": {},
     "output_type": "execute_result"
    },
    {
     "data": {
      "image/png": "[encoded data removed]",
      "text/plain": [
       "<Figure size 640x480 with 2 Axes>"
      ]
     },
     "metadata": {},
     "output_type": "display_data"
    }
   ],
   "source": [
    "sns.heatmap(df[[i for i in df.columns\n",
    "               if df[i].dtype == 'int64' or df[i].dtype == 'float64']].corr())"
   ]
  },
  {
   "cell_type": "markdown",
   "id": "19886b59",
   "metadata": {},
   "source": [
    "#### Data Preparation"
   ]
  },
  {
   "cell_type": "code",
   "execution_count": 15,
   "id": "a67b0ea9",
   "metadata": {},
   "outputs": [],
   "source": [
    "#Balancing the dataset\n",
    "df_balanced = pd.concat([fraud, non_fraud.sample(len(fraud), random_state = 50)])"
   ]
  },
  {
   "cell_type": "code",
   "execution_count": 16,
   "id": "ef224e51",
   "metadata": {},
   "outputs": [
    {
     "data": {
      "text/plain": [
       "(19302, 23)"
      ]
     },
     "execution_count": 16,
     "metadata": {},
     "output_type": "execute_result"
    }
   ],
   "source": [
    "df_balanced.shape"
   ]
  },
  {
   "cell_type": "code",
   "execution_count": 17,
   "id": "6f2109c4",
   "metadata": {},
   "outputs": [
    {
     "data": {
      "text/plain": [
       "<AxesSubplot:xlabel='is_fraud'>"
      ]
     },
     "execution_count": 17,
     "metadata": {},
     "output_type": "execute_result"
    },
    {
     "data": {
      "image/png": "[encoded data removed]",
      "text/plain": [
       "<Figure size 640x480 with 1 Axes>"
      ]
     },
     "metadata": {},
     "output_type": "display_data"
    }
   ],
   "source": [
    "df_balanced.groupby('is_fraud').count()['cc_num'].plot.bar()"
   ]
  },
  {
   "cell_type": "code",
   "execution_count": 18,
   "id": "5dcddcb1",
   "metadata": {},
   "outputs": [],
   "source": [
    "#Dropping columns\n",
    "columns_dropped = ['Unnamed: 0', 'merchant', 'cc_num','first', 'last','gender','trans_num','unix_time','street','merch_lat','merch_long','job','zip']\n",
    "df_balanced.drop(columns = columns_dropped, inplace = True)"
   ]
  },
  {
   "cell_type": "code",
   "execution_count": 19,
   "id": "92ec9843",
   "metadata": {},
   "outputs": [
    {
     "name": "stdout",
     "output_type": "stream",
     "text": [
      "<class 'pandas.core.frame.DataFrame'>\n",
      "Int64Index: 19302 entries, 2449 to 211478\n",
      "Data columns (total 10 columns):\n",
      " #   Column                 Non-Null Count  Dtype  \n",
      "---  ------                 --------------  -----  \n",
      " 0   trans_date_trans_time  19302 non-null  object \n",
      " 1   category               19302 non-null  object \n",
      " 2   amt                    19302 non-null  float64\n",
      " 3   city                   19302 non-null  object \n",
      " 4   state                  19302 non-null  object \n",
      " 5   lat                    19302 non-null  float64\n",
      " 6   long                   19302 non-null  float64\n",
      " 7   city_pop               19302 non-null  int64  \n",
      " 8   dob                    19302 non-null  object \n",
      " 9   is_fraud               19302 non-null  int64  \n",
      "dtypes: float64(3), int64(2), object(5)\n",
      "memory usage: 1.6+ MB\n"
     ]
    }
   ],
   "source": [
    "df_balanced.info()"
   ]
  },
  {
   "cell_type": "code",
   "execution_count": 20,
   "id": "44e1fab8",
   "metadata": {},
   "outputs": [],
   "source": [
    "#Coverting datetimes type for 'trans_date_trans_time'\n",
    "df_balanced['trans_date_trans_time'] = pd.to_datetime(df_balanced['trans_date_trans_time'])"
   ]
  },
  {
   "cell_type": "code",
   "execution_count": 21,
   "id": "40ce161a",
   "metadata": {},
   "outputs": [],
   "source": [
    "#Coverting datetimes type for 'dob'\n",
    "df_balanced['dob'] = pd.to_datetime(df_balanced['dob'])"
   ]
  },
  {
   "cell_type": "code",
   "execution_count": 22,
   "id": "bea6c813",
   "metadata": {},
   "outputs": [
    {
     "name": "stdout",
     "output_type": "stream",
     "text": [
      "<class 'pandas.core.frame.DataFrame'>\n",
      "Int64Index: 19302 entries, 2449 to 211478\n",
      "Data columns (total 10 columns):\n",
      " #   Column                 Non-Null Count  Dtype         \n",
      "---  ------                 --------------  -----         \n",
      " 0   trans_date_trans_time  19302 non-null  datetime64[ns]\n",
      " 1   category               19302 non-null  object        \n",
      " 2   amt                    19302 non-null  float64       \n",
      " 3   city                   19302 non-null  object        \n",
      " 4   state                  19302 non-null  object        \n",
      " 5   lat                    19302 non-null  float64       \n",
      " 6   long                   19302 non-null  float64       \n",
      " 7   city_pop               19302 non-null  int64         \n",
      " 8   dob                    19302 non-null  datetime64[ns]\n",
      " 9   is_fraud               19302 non-null  int64         \n",
      "dtypes: datetime64[ns](2), float64(3), int64(2), object(3)\n",
      "memory usage: 1.6+ MB\n"
     ]
    }
   ],
   "source": [
    "df_balanced.info()"
   ]
  },
  {
   "cell_type": "code",
   "execution_count": 23,
   "id": "f47a45f7",
   "metadata": {},
   "outputs": [],
   "source": [
    "#Using the datetime variables allows extract of day, hour and age from transaction and client\n",
    "df_balanced['trans_date_trans_time'] = df_balanced['trans_date_trans_time'].dt.hour"
   ]
  },
  {
   "cell_type": "code",
   "execution_count": 24,
   "id": "ffd296fd",
   "metadata": {},
   "outputs": [],
   "source": [
    "df_balanced = df_balanced.rename(columns = {'trans_date_trans_time':'hour_transaction'})"
   ]
  },
  {
   "cell_type": "code",
   "execution_count": 25,
   "id": "a6a55df1",
   "metadata": {},
   "outputs": [
    {
     "data": {
      "text/html": [
       "<div>\n",
       "<style scoped>\n",
       "    .dataframe tbody tr th:only-of-type {\n",
       "        vertical-align: middle;\n",
       "    }\n",
       "\n",
       "    .dataframe tbody tr th {\n",
       "        vertical-align: top;\n",
       "    }\n",
       "\n",
       "    .dataframe thead th {\n",
       "        text-align: right;\n",
       "    }\n",
       "</style>\n",
       "<table border=\"1\" class=\"dataframe\">\n",
       "  <thead>\n",
       "    <tr style=\"text-align: right;\">\n",
       "      <th></th>\n",
       "      <th>hour_transaction</th>\n",
       "      <th>category</th>\n",
       "      <th>amt</th>\n",
       "      <th>city</th>\n",
       "      <th>state</th>\n",
       "      <th>lat</th>\n",
       "      <th>long</th>\n",
       "      <th>city_pop</th>\n",
       "      <th>dob</th>\n",
       "      <th>is_fraud</th>\n",
       "    </tr>\n",
       "  </thead>\n",
       "  <tbody>\n",
       "    <tr>\n",
       "      <th>2449</th>\n",
       "      <td>1</td>\n",
       "      <td>grocery_pos</td>\n",
       "      <td>281.06</td>\n",
       "      <td>Collettsville</td>\n",
       "      <td>NC</td>\n",
       "      <td>35.9946</td>\n",
       "      <td>-81.7266</td>\n",
       "      <td>885</td>\n",
       "      <td>1988-09-15</td>\n",
       "      <td>1</td>\n",
       "    </tr>\n",
       "    <tr>\n",
       "      <th>2472</th>\n",
       "      <td>1</td>\n",
       "      <td>gas_transport</td>\n",
       "      <td>11.52</td>\n",
       "      <td>San Antonio</td>\n",
       "      <td>TX</td>\n",
       "      <td>29.4400</td>\n",
       "      <td>-98.4590</td>\n",
       "      <td>1595797</td>\n",
       "      <td>1960-10-28</td>\n",
       "      <td>1</td>\n",
       "    </tr>\n",
       "    <tr>\n",
       "      <th>2523</th>\n",
       "      <td>3</td>\n",
       "      <td>grocery_pos</td>\n",
       "      <td>276.31</td>\n",
       "      <td>San Antonio</td>\n",
       "      <td>TX</td>\n",
       "      <td>29.4400</td>\n",
       "      <td>-98.4590</td>\n",
       "      <td>1595797</td>\n",
       "      <td>1960-10-28</td>\n",
       "      <td>1</td>\n",
       "    </tr>\n",
       "    <tr>\n",
       "      <th>2546</th>\n",
       "      <td>3</td>\n",
       "      <td>gas_transport</td>\n",
       "      <td>7.03</td>\n",
       "      <td>Collettsville</td>\n",
       "      <td>NC</td>\n",
       "      <td>35.9946</td>\n",
       "      <td>-81.7266</td>\n",
       "      <td>885</td>\n",
       "      <td>1988-09-15</td>\n",
       "      <td>1</td>\n",
       "    </tr>\n",
       "    <tr>\n",
       "      <th>2553</th>\n",
       "      <td>3</td>\n",
       "      <td>grocery_pos</td>\n",
       "      <td>275.73</td>\n",
       "      <td>San Antonio</td>\n",
       "      <td>TX</td>\n",
       "      <td>29.4400</td>\n",
       "      <td>-98.4590</td>\n",
       "      <td>1595797</td>\n",
       "      <td>1960-10-28</td>\n",
       "      <td>1</td>\n",
       "    </tr>\n",
       "  </tbody>\n",
       "</table>\n",
       "</div>"
      ],
      "text/plain": [
       "      hour_transaction       category     amt           city state      lat  \\\n",
       "2449                 1    grocery_pos  281.06  Collettsville    NC  35.9946   \n",
       "2472                 1  gas_transport   11.52    San Antonio    TX  29.4400   \n",
       "2523                 3    grocery_pos  276.31    San Antonio    TX  29.4400   \n",
       "2546                 3  gas_transport    7.03  Collettsville    NC  35.9946   \n",
       "2553                 3    grocery_pos  275.73    San Antonio    TX  29.4400   \n",
       "\n",
       "         long  city_pop        dob  is_fraud  \n",
       "2449 -81.7266       885 1988-09-15         1  \n",
       "2472 -98.4590   1595797 1960-10-28         1  \n",
       "2523 -98.4590   1595797 1960-10-28         1  \n",
       "2546 -81.7266       885 1988-09-15         1  \n",
       "2553 -98.4590   1595797 1960-10-28         1  "
      ]
     },
     "execution_count": 25,
     "metadata": {},
     "output_type": "execute_result"
    }
   ],
   "source": [
    "df_balanced.head(5)"
   ]
  },
  {
   "cell_type": "code",
   "execution_count": 26,
   "id": "c4c07c67",
   "metadata": {},
   "outputs": [],
   "source": [
    "#Function to get time of day\n",
    "def get_tod(hour):\n",
    "    if 4 < hour['hour_transaction'] <= 12:\n",
    "        ans = 'morning'\n",
    "    elif 12 < hour['hour_transaction'] <= 19:\n",
    "        ans = 'afternoon'\n",
    "    elif hour['hour_transaction'] <= 4 or hour['hour_transaction'] > 19:\n",
    "        ans = 'night'\n",
    "    return ans"
   ]
  },
  {
   "cell_type": "code",
   "execution_count": 27,
   "id": "0c0b0272",
   "metadata": {},
   "outputs": [],
   "source": [
    "df_balanced['hour_transaction'] = df_balanced.apply(get_tod, axis = 1)"
   ]
  },
  {
   "cell_type": "code",
   "execution_count": 28,
   "id": "266167f2",
   "metadata": {},
   "outputs": [
    {
     "data": {
      "text/html": [
       "<div>\n",
       "<style scoped>\n",
       "    .dataframe tbody tr th:only-of-type {\n",
       "        vertical-align: middle;\n",
       "    }\n",
       "\n",
       "    .dataframe tbody tr th {\n",
       "        vertical-align: top;\n",
       "    }\n",
       "\n",
       "    .dataframe thead th {\n",
       "        text-align: right;\n",
       "    }\n",
       "</style>\n",
       "<table border=\"1\" class=\"dataframe\">\n",
       "  <thead>\n",
       "    <tr style=\"text-align: right;\">\n",
       "      <th></th>\n",
       "      <th>hour_transaction</th>\n",
       "      <th>category</th>\n",
       "      <th>amt</th>\n",
       "      <th>city</th>\n",
       "      <th>state</th>\n",
       "      <th>lat</th>\n",
       "      <th>long</th>\n",
       "      <th>city_pop</th>\n",
       "      <th>dob</th>\n",
       "      <th>is_fraud</th>\n",
       "    </tr>\n",
       "  </thead>\n",
       "  <tbody>\n",
       "    <tr>\n",
       "      <th>2449</th>\n",
       "      <td>night</td>\n",
       "      <td>grocery_pos</td>\n",
       "      <td>281.06</td>\n",
       "      <td>Collettsville</td>\n",
       "      <td>NC</td>\n",
       "      <td>35.9946</td>\n",
       "      <td>-81.7266</td>\n",
       "      <td>885</td>\n",
       "      <td>1988-09-15</td>\n",
       "      <td>1</td>\n",
       "    </tr>\n",
       "    <tr>\n",
       "      <th>2472</th>\n",
       "      <td>night</td>\n",
       "      <td>gas_transport</td>\n",
       "      <td>11.52</td>\n",
       "      <td>San Antonio</td>\n",
       "      <td>TX</td>\n",
       "      <td>29.4400</td>\n",
       "      <td>-98.4590</td>\n",
       "      <td>1595797</td>\n",
       "      <td>1960-10-28</td>\n",
       "      <td>1</td>\n",
       "    </tr>\n",
       "    <tr>\n",
       "      <th>2523</th>\n",
       "      <td>night</td>\n",
       "      <td>grocery_pos</td>\n",
       "      <td>276.31</td>\n",
       "      <td>San Antonio</td>\n",
       "      <td>TX</td>\n",
       "      <td>29.4400</td>\n",
       "      <td>-98.4590</td>\n",
       "      <td>1595797</td>\n",
       "      <td>1960-10-28</td>\n",
       "      <td>1</td>\n",
       "    </tr>\n",
       "    <tr>\n",
       "      <th>2546</th>\n",
       "      <td>night</td>\n",
       "      <td>gas_transport</td>\n",
       "      <td>7.03</td>\n",
       "      <td>Collettsville</td>\n",
       "      <td>NC</td>\n",
       "      <td>35.9946</td>\n",
       "      <td>-81.7266</td>\n",
       "      <td>885</td>\n",
       "      <td>1988-09-15</td>\n",
       "      <td>1</td>\n",
       "    </tr>\n",
       "    <tr>\n",
       "      <th>2553</th>\n",
       "      <td>night</td>\n",
       "      <td>grocery_pos</td>\n",
       "      <td>275.73</td>\n",
       "      <td>San Antonio</td>\n",
       "      <td>TX</td>\n",
       "      <td>29.4400</td>\n",
       "      <td>-98.4590</td>\n",
       "      <td>1595797</td>\n",
       "      <td>1960-10-28</td>\n",
       "      <td>1</td>\n",
       "    </tr>\n",
       "  </tbody>\n",
       "</table>\n",
       "</div>"
      ],
      "text/plain": [
       "     hour_transaction       category     amt           city state      lat  \\\n",
       "2449            night    grocery_pos  281.06  Collettsville    NC  35.9946   \n",
       "2472            night  gas_transport   11.52    San Antonio    TX  29.4400   \n",
       "2523            night    grocery_pos  276.31    San Antonio    TX  29.4400   \n",
       "2546            night  gas_transport    7.03  Collettsville    NC  35.9946   \n",
       "2553            night    grocery_pos  275.73    San Antonio    TX  29.4400   \n",
       "\n",
       "         long  city_pop        dob  is_fraud  \n",
       "2449 -81.7266       885 1988-09-15         1  \n",
       "2472 -98.4590   1595797 1960-10-28         1  \n",
       "2523 -98.4590   1595797 1960-10-28         1  \n",
       "2546 -81.7266       885 1988-09-15         1  \n",
       "2553 -98.4590   1595797 1960-10-28         1  "
      ]
     },
     "execution_count": 28,
     "metadata": {},
     "output_type": "execute_result"
    }
   ],
   "source": [
    "df_balanced.head()"
   ]
  },
  {
   "cell_type": "code",
   "execution_count": 29,
   "id": "d0d1d6ce",
   "metadata": {},
   "outputs": [],
   "source": [
    "df_balanced['dob'] = df_balanced['dob'].dt.year\n",
    "df_balanced = df_balanced.rename(columns = {'dob':'age'})"
   ]
  },
  {
   "cell_type": "code",
   "execution_count": 30,
   "id": "b031de24",
   "metadata": {},
   "outputs": [],
   "source": [
    "from datetime import datetime\n",
    "df_balanced['age'] = datetime.now().year - df_balanced['age']"
   ]
  },
  {
   "cell_type": "code",
   "execution_count": 31,
   "id": "0a42f76b",
   "metadata": {},
   "outputs": [
    {
     "data": {
      "text/plain": [
       "age\n",
       "19      7\n",
       "20     32\n",
       "21     21\n",
       "22     12\n",
       "23     58\n",
       "       ..\n",
       "96     41\n",
       "97     54\n",
       "98     33\n",
       "99     11\n",
       "100     7\n",
       "Name: is_fraud, Length: 82, dtype: int64"
      ]
     },
     "execution_count": 31,
     "metadata": {},
     "output_type": "execute_result"
    }
   ],
   "source": [
    "#Analyzing how many frauds occur for each age group\n",
    "df_balanced[df_balanced['is_fraud'] == 1].groupby('age').count()['is_fraud']"
   ]
  },
  {
   "cell_type": "code",
   "execution_count": 32,
   "id": "84cc8beb",
   "metadata": {},
   "outputs": [
    {
     "name": "stdout",
     "output_type": "stream",
     "text": [
      "<class 'pandas.core.frame.DataFrame'>\n",
      "Int64Index: 19302 entries, 2449 to 211478\n",
      "Data columns (total 10 columns):\n",
      " #   Column            Non-Null Count  Dtype  \n",
      "---  ------            --------------  -----  \n",
      " 0   hour_transaction  19302 non-null  object \n",
      " 1   category          19302 non-null  object \n",
      " 2   amt               19302 non-null  float64\n",
      " 3   city              19302 non-null  object \n",
      " 4   state             19302 non-null  object \n",
      " 5   lat               19302 non-null  float64\n",
      " 6   long              19302 non-null  float64\n",
      " 7   city_pop          19302 non-null  int64  \n",
      " 8   age               19302 non-null  int64  \n",
      " 9   is_fraud          19302 non-null  int64  \n",
      "dtypes: float64(3), int64(3), object(4)\n",
      "memory usage: 1.6+ MB\n"
     ]
    }
   ],
   "source": [
    "df_balanced.info()"
   ]
  },
  {
   "cell_type": "markdown",
   "id": "49de90ab",
   "metadata": {},
   "source": [
    "#### Label Encoding"
   ]
  },
  {
   "cell_type": "code",
   "execution_count": 34,
   "id": "3858daa2",
   "metadata": {},
   "outputs": [],
   "source": [
    "#Using label encoding for categorical data\n",
    "NUMERICAL_FEATURES = [i for i in df_balanced.columns if df_balanced[i].dtype == 'int64'\n",
    "                      or df_balanced[i].dtype == 'int32' or df_balanced[i].dtype == 'float64']\n",
    "CATEGORICAL_FEATURES = [i for i in df_balanced.columns if df_balanced[i].dtype == 'object']"
   ]
  },
  {
   "cell_type": "code",
   "execution_count": 35,
   "id": "b3bde6a4",
   "metadata": {},
   "outputs": [
    {
     "data": {
      "text/plain": [
       "['amt', 'lat', 'long', 'city_pop', 'age', 'is_fraud']"
      ]
     },
     "execution_count": 35,
     "metadata": {},
     "output_type": "execute_result"
    }
   ],
   "source": [
    "NUMERICAL_FEATURES"
   ]
  },
  {
   "cell_type": "code",
   "execution_count": 36,
   "id": "65d0da79",
   "metadata": {},
   "outputs": [
    {
     "data": {
      "text/plain": [
       "['hour_transaction', 'category', 'city', 'state']"
      ]
     },
     "execution_count": 36,
     "metadata": {},
     "output_type": "execute_result"
    }
   ],
   "source": [
    "CATEGORICAL_FEATURES"
   ]
  },
  {
   "cell_type": "code",
   "execution_count": 37,
   "id": "9878fb9a",
   "metadata": {},
   "outputs": [],
   "source": [
    "from sklearn.preprocessing import OrdinalEncoder\n",
    "#Assign all categorial value with unique value\n",
    "encoder = OrdinalEncoder()\n",
    "encoder.fit(df_balanced[CATEGORICAL_FEATURES])\n",
    "\n",
    "df_balanced[CATEGORICAL_FEATURES] = encoder.transform(df_balanced[CATEGORICAL_FEATURES])"
   ]
  },
  {
   "cell_type": "code",
   "execution_count": 38,
   "id": "e3fb6a86",
   "metadata": {},
   "outputs": [
    {
     "data": {
      "text/html": [
       "<div>\n",
       "<style scoped>\n",
       "    .dataframe tbody tr th:only-of-type {\n",
       "        vertical-align: middle;\n",
       "    }\n",
       "\n",
       "    .dataframe tbody tr th {\n",
       "        vertical-align: top;\n",
       "    }\n",
       "\n",
       "    .dataframe thead th {\n",
       "        text-align: right;\n",
       "    }\n",
       "</style>\n",
       "<table border=\"1\" class=\"dataframe\">\n",
       "  <thead>\n",
       "    <tr style=\"text-align: right;\">\n",
       "      <th></th>\n",
       "      <th>hour_transaction</th>\n",
       "      <th>category</th>\n",
       "      <th>amt</th>\n",
       "      <th>city</th>\n",
       "      <th>state</th>\n",
       "      <th>lat</th>\n",
       "      <th>long</th>\n",
       "      <th>city_pop</th>\n",
       "      <th>age</th>\n",
       "      <th>is_fraud</th>\n",
       "    </tr>\n",
       "  </thead>\n",
       "  <tbody>\n",
       "    <tr>\n",
       "      <th>2449</th>\n",
       "      <td>2.0</td>\n",
       "      <td>4.0</td>\n",
       "      <td>281.06</td>\n",
       "      <td>165.0</td>\n",
       "      <td>27.0</td>\n",
       "      <td>35.9946</td>\n",
       "      <td>-81.7266</td>\n",
       "      <td>885</td>\n",
       "      <td>36</td>\n",
       "      <td>1</td>\n",
       "    </tr>\n",
       "    <tr>\n",
       "      <th>2472</th>\n",
       "      <td>2.0</td>\n",
       "      <td>2.0</td>\n",
       "      <td>11.52</td>\n",
       "      <td>733.0</td>\n",
       "      <td>43.0</td>\n",
       "      <td>29.4400</td>\n",
       "      <td>-98.4590</td>\n",
       "      <td>1595797</td>\n",
       "      <td>64</td>\n",
       "      <td>1</td>\n",
       "    </tr>\n",
       "    <tr>\n",
       "      <th>2523</th>\n",
       "      <td>2.0</td>\n",
       "      <td>4.0</td>\n",
       "      <td>276.31</td>\n",
       "      <td>733.0</td>\n",
       "      <td>43.0</td>\n",
       "      <td>29.4400</td>\n",
       "      <td>-98.4590</td>\n",
       "      <td>1595797</td>\n",
       "      <td>64</td>\n",
       "      <td>1</td>\n",
       "    </tr>\n",
       "    <tr>\n",
       "      <th>2546</th>\n",
       "      <td>2.0</td>\n",
       "      <td>2.0</td>\n",
       "      <td>7.03</td>\n",
       "      <td>165.0</td>\n",
       "      <td>27.0</td>\n",
       "      <td>35.9946</td>\n",
       "      <td>-81.7266</td>\n",
       "      <td>885</td>\n",
       "      <td>36</td>\n",
       "      <td>1</td>\n",
       "    </tr>\n",
       "    <tr>\n",
       "      <th>2553</th>\n",
       "      <td>2.0</td>\n",
       "      <td>4.0</td>\n",
       "      <td>275.73</td>\n",
       "      <td>733.0</td>\n",
       "      <td>43.0</td>\n",
       "      <td>29.4400</td>\n",
       "      <td>-98.4590</td>\n",
       "      <td>1595797</td>\n",
       "      <td>64</td>\n",
       "      <td>1</td>\n",
       "    </tr>\n",
       "  </tbody>\n",
       "</table>\n",
       "</div>"
      ],
      "text/plain": [
       "      hour_transaction  category     amt   city  state      lat     long  \\\n",
       "2449               2.0       4.0  281.06  165.0   27.0  35.9946 -81.7266   \n",
       "2472               2.0       2.0   11.52  733.0   43.0  29.4400 -98.4590   \n",
       "2523               2.0       4.0  276.31  733.0   43.0  29.4400 -98.4590   \n",
       "2546               2.0       2.0    7.03  165.0   27.0  35.9946 -81.7266   \n",
       "2553               2.0       4.0  275.73  733.0   43.0  29.4400 -98.4590   \n",
       "\n",
       "      city_pop  age  is_fraud  \n",
       "2449       885   36         1  \n",
       "2472   1595797   64         1  \n",
       "2523   1595797   64         1  \n",
       "2546       885   36         1  \n",
       "2553   1595797   64         1  "
      ]
     },
     "execution_count": 38,
     "metadata": {},
     "output_type": "execute_result"
    }
   ],
   "source": [
    "df_balanced.head()"
   ]
  },
  {
   "cell_type": "code",
   "execution_count": 39,
   "id": "59bcbf3d",
   "metadata": {},
   "outputs": [],
   "source": [
    "#Correcting datatypes\n",
    "df_balanced[['is_fraud', 'age']] = df_balanced[['is_fraud', 'age']].astype('float64')"
   ]
  },
  {
   "cell_type": "code",
   "execution_count": 40,
   "id": "a9bf91a7",
   "metadata": {},
   "outputs": [
    {
     "data": {
      "text/plain": [
       "<AxesSubplot:>"
      ]
     },
     "execution_count": 40,
     "metadata": {},
     "output_type": "execute_result"
    },
    {
     "data": {
      "image/png": "[encoded data removed]",
      "text/plain": [
       "<Figure size 640x480 with 1 Axes>"
      ]
     },
     "metadata": {},
     "output_type": "display_data"
    }
   ],
   "source": [
    "#Scaling dataset using SVM\n",
    "sns.boxplot(df_balanced[NUMERICAL_FEATURES])"
   ]
  },
  {
   "cell_type": "code",
   "execution_count": 41,
   "id": "ae879e31",
   "metadata": {},
   "outputs": [
    {
     "data": {
      "text/plain": [
       "<AxesSubplot:>"
      ]
     },
     "execution_count": 41,
     "metadata": {},
     "output_type": "execute_result"
    },
    {
     "data": {
      "image/png": "[encoded data removed]",
      "text/plain": [
       "<Figure size 640x480 with 1 Axes>"
      ]
     },
     "metadata": {},
     "output_type": "display_data"
    }
   ],
   "source": [
    "sns.boxplot(df_balanced[['amt']])"
   ]
  },
  {
   "cell_type": "markdown",
   "id": "d958455e",
   "metadata": {},
   "source": [
    "* not all of them seems to follow gaussian normal distribution, sing normal minmax scaler next"
   ]
  },
  {
   "cell_type": "code",
   "execution_count": 43,
   "id": "ca526c71",
   "metadata": {},
   "outputs": [],
   "source": [
    "from sklearn.preprocessing import MinMaxScaler\n",
    "scaler = MinMaxScaler()\n",
    "df_scaled = scaler.fit_transform(df_balanced)\n",
    "df_scaled = pd.DataFrame(df_scaled)"
   ]
  },
  {
   "cell_type": "code",
   "execution_count": 44,
   "id": "449fa0ab",
   "metadata": {},
   "outputs": [],
   "source": [
    "last_column = df_scaled.shape[1]-1"
   ]
  },
  {
   "cell_type": "code",
   "execution_count": 45,
   "id": "2cc6855a",
   "metadata": {},
   "outputs": [
    {
     "name": "stdout",
     "output_type": "stream",
     "text": [
      "Not fraud: 9651\n",
      "Fraud: 9651\n"
     ]
    }
   ],
   "source": [
    "print(f\"Not fraud: {df_scaled[df_scaled[last_column] == 0].count()[last_column]}\")\n",
    "print(f\"Fraud: {df_scaled[df_scaled[last_column] == 1].count()[last_column]}\")"
   ]
  },
  {
   "cell_type": "code",
   "execution_count": 46,
   "id": "ef0bcd10",
   "metadata": {},
   "outputs": [
    {
     "data": {
      "text/html": [
       "<div>\n",
       "<style scoped>\n",
       "    .dataframe tbody tr th:only-of-type {\n",
       "        vertical-align: middle;\n",
       "    }\n",
       "\n",
       "    .dataframe tbody tr th {\n",
       "        vertical-align: top;\n",
       "    }\n",
       "\n",
       "    .dataframe thead th {\n",
       "        text-align: right;\n",
       "    }\n",
       "</style>\n",
       "<table border=\"1\" class=\"dataframe\">\n",
       "  <thead>\n",
       "    <tr style=\"text-align: right;\">\n",
       "      <th></th>\n",
       "      <th>0</th>\n",
       "      <th>1</th>\n",
       "      <th>2</th>\n",
       "      <th>3</th>\n",
       "      <th>4</th>\n",
       "      <th>5</th>\n",
       "      <th>6</th>\n",
       "      <th>7</th>\n",
       "      <th>8</th>\n",
       "      <th>is_fraud</th>\n",
       "    </tr>\n",
       "  </thead>\n",
       "  <tbody>\n",
       "    <tr>\n",
       "      <th>0</th>\n",
       "      <td>1.0</td>\n",
       "      <td>0.307692</td>\n",
       "      <td>0.023949</td>\n",
       "      <td>0.182320</td>\n",
       "      <td>0.54</td>\n",
       "      <td>0.342164</td>\n",
       "      <td>0.859026</td>\n",
       "      <td>0.000297</td>\n",
       "      <td>0.209877</td>\n",
       "      <td>1.0</td>\n",
       "    </tr>\n",
       "    <tr>\n",
       "      <th>1</th>\n",
       "      <td>1.0</td>\n",
       "      <td>0.153846</td>\n",
       "      <td>0.000900</td>\n",
       "      <td>0.809945</td>\n",
       "      <td>0.86</td>\n",
       "      <td>0.201707</td>\n",
       "      <td>0.687801</td>\n",
       "      <td>0.549003</td>\n",
       "      <td>0.555556</td>\n",
       "      <td>1.0</td>\n",
       "    </tr>\n",
       "    <tr>\n",
       "      <th>2</th>\n",
       "      <td>1.0</td>\n",
       "      <td>0.307692</td>\n",
       "      <td>0.023543</td>\n",
       "      <td>0.809945</td>\n",
       "      <td>0.86</td>\n",
       "      <td>0.201707</td>\n",
       "      <td>0.687801</td>\n",
       "      <td>0.549003</td>\n",
       "      <td>0.555556</td>\n",
       "      <td>1.0</td>\n",
       "    </tr>\n",
       "    <tr>\n",
       "      <th>3</th>\n",
       "      <td>1.0</td>\n",
       "      <td>0.153846</td>\n",
       "      <td>0.000516</td>\n",
       "      <td>0.182320</td>\n",
       "      <td>0.54</td>\n",
       "      <td>0.342164</td>\n",
       "      <td>0.859026</td>\n",
       "      <td>0.000297</td>\n",
       "      <td>0.209877</td>\n",
       "      <td>1.0</td>\n",
       "    </tr>\n",
       "    <tr>\n",
       "      <th>4</th>\n",
       "      <td>1.0</td>\n",
       "      <td>0.307692</td>\n",
       "      <td>0.023493</td>\n",
       "      <td>0.809945</td>\n",
       "      <td>0.86</td>\n",
       "      <td>0.201707</td>\n",
       "      <td>0.687801</td>\n",
       "      <td>0.549003</td>\n",
       "      <td>0.555556</td>\n",
       "      <td>1.0</td>\n",
       "    </tr>\n",
       "  </tbody>\n",
       "</table>\n",
       "</div>"
      ],
      "text/plain": [
       "     0         1         2         3     4         5         6         7  \\\n",
       "0  1.0  0.307692  0.023949  0.182320  0.54  0.342164  0.859026  0.000297   \n",
       "1  1.0  0.153846  0.000900  0.809945  0.86  0.201707  0.687801  0.549003   \n",
       "2  1.0  0.307692  0.023543  0.809945  0.86  0.201707  0.687801  0.549003   \n",
       "3  1.0  0.153846  0.000516  0.182320  0.54  0.342164  0.859026  0.000297   \n",
       "4  1.0  0.307692  0.023493  0.809945  0.86  0.201707  0.687801  0.549003   \n",
       "\n",
       "          8  is_fraud  \n",
       "0  0.209877       1.0  \n",
       "1  0.555556       1.0  \n",
       "2  0.555556       1.0  \n",
       "3  0.209877       1.0  \n",
       "4  0.555556       1.0  "
      ]
     },
     "execution_count": 46,
     "metadata": {},
     "output_type": "execute_result"
    }
   ],
   "source": [
    "df_scaled.rename(columns = {last_column: 'is_fraud'}, inplace=True)\n",
    "df_scaled.head()"
   ]
  },
  {
   "cell_type": "markdown",
   "id": "d28ccaab",
   "metadata": {},
   "source": [
    "#### Modeling"
   ]
  },
  {
   "cell_type": "code",
   "execution_count": 47,
   "id": "10687ede",
   "metadata": {},
   "outputs": [],
   "source": [
    "from sklearn.linear_model import LogisticRegression\n",
    "from sklearn.metrics import classification_report\n",
    "from sklearn.metrics import confusion_matrix, ConfusionMatrixDisplay\n",
    "from sklearn.model_selection import train_test_split"
   ]
  },
  {
   "cell_type": "code",
   "execution_count": 48,
   "id": "43f9199c",
   "metadata": {},
   "outputs": [],
   "source": [
    "#x = feature values, all the columns except the last column\n",
    "x = df_scaled.drop(columns = 'is_fraud')\n",
    "\n",
    "#y = target values, last column of the data frame\n",
    "y = df_scaled['is_fraud']"
   ]
  },
  {
   "cell_type": "code",
   "execution_count": 50,
   "id": "cbce1a28",
   "metadata": {},
   "outputs": [],
   "source": [
    "# pliting train and test\n",
    "x_train, x_test, y_train, y_test = train_test_split(x, y, test_size=0.2, random_state=50)"
   ]
  },
  {
   "cell_type": "markdown",
   "id": "00eaa5f5",
   "metadata": {},
   "source": [
    "#### Logistic Regression Model"
   ]
  },
  {
   "cell_type": "code",
   "execution_count": 51,
   "id": "078ae05b",
   "metadata": {},
   "outputs": [
    {
     "data": {
      "text/plain": [
       "LogisticRegression()"
      ]
     },
     "execution_count": 51,
     "metadata": {},
     "output_type": "execute_result"
    }
   ],
   "source": [
    "#Training\n",
    "model = LogisticRegression()\n",
    "model.fit(x_train, y_train)"
   ]
  },
  {
   "cell_type": "code",
   "execution_count": 52,
   "id": "50200b2f",
   "metadata": {},
   "outputs": [],
   "source": [
    "#Define a function to get the predictions and setting up the threshold\n",
    "def predict(model, test_set, threshold):\n",
    "    predictions = model.predict(test_set)\n",
    "    pred_threshold = model.predict_proba(test_set)\n",
    "    test_set[\"prediction\"] = predictions\n",
    "    test_set[\"predict_threshold\"] = (pred_threshold >= threshold)[:, 1].astype(float)\n",
    "    return test_set"
   ]
  },
  {
   "cell_type": "code",
   "execution_count": 53,
   "id": "396156d3",
   "metadata": {},
   "outputs": [
    {
     "data": {
      "text/html": [
       "<div>\n",
       "<style scoped>\n",
       "    .dataframe tbody tr th:only-of-type {\n",
       "        vertical-align: middle;\n",
       "    }\n",
       "\n",
       "    .dataframe tbody tr th {\n",
       "        vertical-align: top;\n",
       "    }\n",
       "\n",
       "    .dataframe thead th {\n",
       "        text-align: right;\n",
       "    }\n",
       "</style>\n",
       "<table border=\"1\" class=\"dataframe\">\n",
       "  <thead>\n",
       "    <tr style=\"text-align: right;\">\n",
       "      <th></th>\n",
       "      <th>0</th>\n",
       "      <th>1</th>\n",
       "      <th>2</th>\n",
       "      <th>3</th>\n",
       "      <th>4</th>\n",
       "      <th>5</th>\n",
       "      <th>6</th>\n",
       "      <th>7</th>\n",
       "      <th>8</th>\n",
       "      <th>prediction</th>\n",
       "      <th>predict_threshold</th>\n",
       "    </tr>\n",
       "  </thead>\n",
       "  <tbody>\n",
       "    <tr>\n",
       "      <th>2107</th>\n",
       "      <td>1.0</td>\n",
       "      <td>0.615385</td>\n",
       "      <td>0.068271</td>\n",
       "      <td>0.901657</td>\n",
       "      <td>0.08</td>\n",
       "      <td>0.390338</td>\n",
       "      <td>0.437545</td>\n",
       "      <td>0.000108</td>\n",
       "      <td>0.629630</td>\n",
       "      <td>1.0</td>\n",
       "      <td>1.0</td>\n",
       "    </tr>\n",
       "    <tr>\n",
       "      <th>16459</th>\n",
       "      <td>0.5</td>\n",
       "      <td>0.846154</td>\n",
       "      <td>0.000134</td>\n",
       "      <td>0.875138</td>\n",
       "      <td>0.50</td>\n",
       "      <td>0.285644</td>\n",
       "      <td>0.784112</td>\n",
       "      <td>0.000654</td>\n",
       "      <td>0.555556</td>\n",
       "      <td>0.0</td>\n",
       "      <td>0.0</td>\n",
       "    </tr>\n",
       "    <tr>\n",
       "      <th>14423</th>\n",
       "      <td>0.0</td>\n",
       "      <td>0.769231</td>\n",
       "      <td>0.002103</td>\n",
       "      <td>0.697238</td>\n",
       "      <td>0.50</td>\n",
       "      <td>0.303691</td>\n",
       "      <td>0.780687</td>\n",
       "      <td>0.000094</td>\n",
       "      <td>0.543210</td>\n",
       "      <td>0.0</td>\n",
       "      <td>0.0</td>\n",
       "    </tr>\n",
       "    <tr>\n",
       "      <th>5765</th>\n",
       "      <td>1.0</td>\n",
       "      <td>0.846154</td>\n",
       "      <td>0.081779</td>\n",
       "      <td>0.342541</td>\n",
       "      <td>0.30</td>\n",
       "      <td>0.419338</td>\n",
       "      <td>0.813956</td>\n",
       "      <td>0.027160</td>\n",
       "      <td>0.456790</td>\n",
       "      <td>1.0</td>\n",
       "      <td>1.0</td>\n",
       "    </tr>\n",
       "    <tr>\n",
       "      <th>411</th>\n",
       "      <td>1.0</td>\n",
       "      <td>0.384615</td>\n",
       "      <td>0.001733</td>\n",
       "      <td>0.311602</td>\n",
       "      <td>0.28</td>\n",
       "      <td>0.381439</td>\n",
       "      <td>0.788449</td>\n",
       "      <td>0.000661</td>\n",
       "      <td>0.419753</td>\n",
       "      <td>0.0</td>\n",
       "      <td>1.0</td>\n",
       "    </tr>\n",
       "    <tr>\n",
       "      <th>...</th>\n",
       "      <td>...</td>\n",
       "      <td>...</td>\n",
       "      <td>...</td>\n",
       "      <td>...</td>\n",
       "      <td>...</td>\n",
       "      <td>...</td>\n",
       "      <td>...</td>\n",
       "      <td>...</td>\n",
       "      <td>...</td>\n",
       "      <td>...</td>\n",
       "      <td>...</td>\n",
       "    </tr>\n",
       "    <tr>\n",
       "      <th>10003</th>\n",
       "      <td>0.0</td>\n",
       "      <td>0.000000</td>\n",
       "      <td>0.005339</td>\n",
       "      <td>0.046409</td>\n",
       "      <td>0.24</td>\n",
       "      <td>0.459641</td>\n",
       "      <td>0.719607</td>\n",
       "      <td>0.000693</td>\n",
       "      <td>0.419753</td>\n",
       "      <td>0.0</td>\n",
       "      <td>0.0</td>\n",
       "    </tr>\n",
       "    <tr>\n",
       "      <th>11220</th>\n",
       "      <td>0.5</td>\n",
       "      <td>0.692308</td>\n",
       "      <td>0.006672</td>\n",
       "      <td>0.071823</td>\n",
       "      <td>0.24</td>\n",
       "      <td>0.489091</td>\n",
       "      <td>0.737319</td>\n",
       "      <td>0.001035</td>\n",
       "      <td>0.506173</td>\n",
       "      <td>0.0</td>\n",
       "      <td>0.0</td>\n",
       "    </tr>\n",
       "    <tr>\n",
       "      <th>2376</th>\n",
       "      <td>1.0</td>\n",
       "      <td>0.307692</td>\n",
       "      <td>0.025949</td>\n",
       "      <td>0.236464</td>\n",
       "      <td>0.32</td>\n",
       "      <td>0.367225</td>\n",
       "      <td>0.705886</td>\n",
       "      <td>0.000199</td>\n",
       "      <td>0.580247</td>\n",
       "      <td>1.0</td>\n",
       "      <td>1.0</td>\n",
       "    </tr>\n",
       "    <tr>\n",
       "      <th>8047</th>\n",
       "      <td>1.0</td>\n",
       "      <td>0.923077</td>\n",
       "      <td>0.079921</td>\n",
       "      <td>0.325967</td>\n",
       "      <td>0.02</td>\n",
       "      <td>0.224385</td>\n",
       "      <td>0.791471</td>\n",
       "      <td>0.005375</td>\n",
       "      <td>0.703704</td>\n",
       "      <td>1.0</td>\n",
       "      <td>1.0</td>\n",
       "    </tr>\n",
       "    <tr>\n",
       "      <th>6638</th>\n",
       "      <td>0.0</td>\n",
       "      <td>0.846154</td>\n",
       "      <td>0.069449</td>\n",
       "      <td>0.458564</td>\n",
       "      <td>0.10</td>\n",
       "      <td>0.419790</td>\n",
       "      <td>0.646678</td>\n",
       "      <td>0.000063</td>\n",
       "      <td>0.617284</td>\n",
       "      <td>0.0</td>\n",
       "      <td>1.0</td>\n",
       "    </tr>\n",
       "  </tbody>\n",
       "</table>\n",
       "<p>3861 rows × 11 columns</p>\n",
       "</div>"
      ],
      "text/plain": [
       "         0         1         2         3     4         5         6         7  \\\n",
       "2107   1.0  0.615385  0.068271  0.901657  0.08  0.390338  0.437545  0.000108   \n",
       "16459  0.5  0.846154  0.000134  0.875138  0.50  0.285644  0.784112  0.000654   \n",
       "14423  0.0  0.769231  0.002103  0.697238  0.50  0.303691  0.780687  0.000094   \n",
       "5765   1.0  0.846154  0.081779  0.342541  0.30  0.419338  0.813956  0.027160   \n",
       "411    1.0  0.384615  0.001733  0.311602  0.28  0.381439  0.788449  0.000661   \n",
       "...    ...       ...       ...       ...   ...       ...       ...       ...   \n",
       "10003  0.0  0.000000  0.005339  0.046409  0.24  0.459641  0.719607  0.000693   \n",
       "11220  0.5  0.692308  0.006672  0.071823  0.24  0.489091  0.737319  0.001035   \n",
       "2376   1.0  0.307692  0.025949  0.236464  0.32  0.367225  0.705886  0.000199   \n",
       "8047   1.0  0.923077  0.079921  0.325967  0.02  0.224385  0.791471  0.005375   \n",
       "6638   0.0  0.846154  0.069449  0.458564  0.10  0.419790  0.646678  0.000063   \n",
       "\n",
       "              8  prediction  predict_threshold  \n",
       "2107   0.629630         1.0                1.0  \n",
       "16459  0.555556         0.0                0.0  \n",
       "14423  0.543210         0.0                0.0  \n",
       "5765   0.456790         1.0                1.0  \n",
       "411    0.419753         0.0                1.0  \n",
       "...         ...         ...                ...  \n",
       "10003  0.419753         0.0                0.0  \n",
       "11220  0.506173         0.0                0.0  \n",
       "2376   0.580247         1.0                1.0  \n",
       "8047   0.703704         1.0                1.0  \n",
       "6638   0.617284         0.0                1.0  \n",
       "\n",
       "[3861 rows x 11 columns]"
      ]
     },
     "execution_count": 53,
     "metadata": {},
     "output_type": "execute_result"
    }
   ],
   "source": [
    "#Use 0.4 as threshold for LR model\n",
    "predict(model, x_test, 0.4)"
   ]
  },
  {
   "cell_type": "markdown",
   "id": "ad6bc3ea",
   "metadata": {},
   "source": [
    "* The 'prediction' column is for standard threshold (0.5) and the 'pred_threshold' stands for our results with the changed threshold."
   ]
  },
  {
   "cell_type": "code",
   "execution_count": 54,
   "id": "3b0c42f7",
   "metadata": {},
   "outputs": [],
   "source": [
    "y_test = pd.DataFrame(y_test)"
   ]
  },
  {
   "cell_type": "code",
   "execution_count": 55,
   "id": "9bd4b6ec",
   "metadata": {},
   "outputs": [],
   "source": [
    "x_test[\"real\"] = y_test[\"is_fraud\"]"
   ]
  },
  {
   "cell_type": "code",
   "execution_count": 56,
   "id": "8861fb2f",
   "metadata": {},
   "outputs": [
    {
     "data": {
      "text/html": [
       "<div>\n",
       "<style scoped>\n",
       "    .dataframe tbody tr th:only-of-type {\n",
       "        vertical-align: middle;\n",
       "    }\n",
       "\n",
       "    .dataframe tbody tr th {\n",
       "        vertical-align: top;\n",
       "    }\n",
       "\n",
       "    .dataframe thead th {\n",
       "        text-align: right;\n",
       "    }\n",
       "</style>\n",
       "<table border=\"1\" class=\"dataframe\">\n",
       "  <thead>\n",
       "    <tr style=\"text-align: right;\">\n",
       "      <th></th>\n",
       "      <th>0</th>\n",
       "      <th>1</th>\n",
       "      <th>2</th>\n",
       "      <th>3</th>\n",
       "      <th>4</th>\n",
       "      <th>5</th>\n",
       "      <th>6</th>\n",
       "      <th>7</th>\n",
       "      <th>8</th>\n",
       "      <th>prediction</th>\n",
       "      <th>predict_threshold</th>\n",
       "      <th>real</th>\n",
       "    </tr>\n",
       "  </thead>\n",
       "  <tbody>\n",
       "    <tr>\n",
       "      <th>2107</th>\n",
       "      <td>1.0</td>\n",
       "      <td>0.615385</td>\n",
       "      <td>0.068271</td>\n",
       "      <td>0.901657</td>\n",
       "      <td>0.08</td>\n",
       "      <td>0.390338</td>\n",
       "      <td>0.437545</td>\n",
       "      <td>0.000108</td>\n",
       "      <td>0.629630</td>\n",
       "      <td>1.0</td>\n",
       "      <td>1.0</td>\n",
       "      <td>1.0</td>\n",
       "    </tr>\n",
       "    <tr>\n",
       "      <th>16459</th>\n",
       "      <td>0.5</td>\n",
       "      <td>0.846154</td>\n",
       "      <td>0.000134</td>\n",
       "      <td>0.875138</td>\n",
       "      <td>0.50</td>\n",
       "      <td>0.285644</td>\n",
       "      <td>0.784112</td>\n",
       "      <td>0.000654</td>\n",
       "      <td>0.555556</td>\n",
       "      <td>0.0</td>\n",
       "      <td>0.0</td>\n",
       "      <td>0.0</td>\n",
       "    </tr>\n",
       "    <tr>\n",
       "      <th>14423</th>\n",
       "      <td>0.0</td>\n",
       "      <td>0.769231</td>\n",
       "      <td>0.002103</td>\n",
       "      <td>0.697238</td>\n",
       "      <td>0.50</td>\n",
       "      <td>0.303691</td>\n",
       "      <td>0.780687</td>\n",
       "      <td>0.000094</td>\n",
       "      <td>0.543210</td>\n",
       "      <td>0.0</td>\n",
       "      <td>0.0</td>\n",
       "      <td>0.0</td>\n",
       "    </tr>\n",
       "    <tr>\n",
       "      <th>5765</th>\n",
       "      <td>1.0</td>\n",
       "      <td>0.846154</td>\n",
       "      <td>0.081779</td>\n",
       "      <td>0.342541</td>\n",
       "      <td>0.30</td>\n",
       "      <td>0.419338</td>\n",
       "      <td>0.813956</td>\n",
       "      <td>0.027160</td>\n",
       "      <td>0.456790</td>\n",
       "      <td>1.0</td>\n",
       "      <td>1.0</td>\n",
       "      <td>1.0</td>\n",
       "    </tr>\n",
       "    <tr>\n",
       "      <th>411</th>\n",
       "      <td>1.0</td>\n",
       "      <td>0.384615</td>\n",
       "      <td>0.001733</td>\n",
       "      <td>0.311602</td>\n",
       "      <td>0.28</td>\n",
       "      <td>0.381439</td>\n",
       "      <td>0.788449</td>\n",
       "      <td>0.000661</td>\n",
       "      <td>0.419753</td>\n",
       "      <td>0.0</td>\n",
       "      <td>1.0</td>\n",
       "      <td>1.0</td>\n",
       "    </tr>\n",
       "  </tbody>\n",
       "</table>\n",
       "</div>"
      ],
      "text/plain": [
       "         0         1         2         3     4         5         6         7  \\\n",
       "2107   1.0  0.615385  0.068271  0.901657  0.08  0.390338  0.437545  0.000108   \n",
       "16459  0.5  0.846154  0.000134  0.875138  0.50  0.285644  0.784112  0.000654   \n",
       "14423  0.0  0.769231  0.002103  0.697238  0.50  0.303691  0.780687  0.000094   \n",
       "5765   1.0  0.846154  0.081779  0.342541  0.30  0.419338  0.813956  0.027160   \n",
       "411    1.0  0.384615  0.001733  0.311602  0.28  0.381439  0.788449  0.000661   \n",
       "\n",
       "              8  prediction  predict_threshold  real  \n",
       "2107   0.629630         1.0                1.0   1.0  \n",
       "16459  0.555556         0.0                0.0   0.0  \n",
       "14423  0.543210         0.0                0.0   0.0  \n",
       "5765   0.456790         1.0                1.0   1.0  \n",
       "411    0.419753         0.0                1.0   1.0  "
      ]
     },
     "execution_count": 56,
     "metadata": {},
     "output_type": "execute_result"
    }
   ],
   "source": [
    "x_test.head(5)"
   ]
  },
  {
   "cell_type": "code",
   "execution_count": 57,
   "id": "0bd97a7d",
   "metadata": {},
   "outputs": [
    {
     "name": "stdout",
     "output_type": "stream",
     "text": [
      "              precision    recall  f1-score   support\n",
      "\n",
      "         0.0       0.79      0.80      0.79      1939\n",
      "         1.0       0.79      0.78      0.79      1922\n",
      "\n",
      "    accuracy                           0.79      3861\n",
      "   macro avg       0.79      0.79      0.79      3861\n",
      "weighted avg       0.79      0.79      0.79      3861\n",
      "\n"
     ]
    }
   ],
   "source": [
    "#With 0.5 threshold\n",
    "print(classification_report(x_test['real'], x_test['prediction']))"
   ]
  },
  {
   "cell_type": "code",
   "execution_count": 59,
   "id": "ce43d7f8",
   "metadata": {},
   "outputs": [
    {
     "name": "stdout",
     "output_type": "stream",
     "text": [
      "              precision    recall  f1-score   support\n",
      "\n",
      "         0.0       0.92      0.64      0.76      1939\n",
      "         1.0       0.72      0.94      0.82      1922\n",
      "\n",
      "    accuracy                           0.79      3861\n",
      "   macro avg       0.82      0.79      0.79      3861\n",
      "weighted avg       0.82      0.79      0.79      3861\n",
      "\n"
     ]
    }
   ],
   "source": [
    "#With 0.4 threshold\n",
    "print(classification_report(x_test['real'], x_test['predict_threshold']))"
   ]
  },
  {
   "cell_type": "markdown",
   "id": "80f8b6ae",
   "metadata": {},
   "source": [
    "* There is an improvement in the recall for frauds, which is now 0.94, but some other metrics such as precision got a little bit worse, whereas the F1-score overall got better."
   ]
  },
  {
   "cell_type": "code",
   "execution_count": 60,
   "id": "93a36321",
   "metadata": {},
   "outputs": [],
   "source": [
    "#Define a function to get the confusion matrix\n",
    "def confusion_matrix_plot(test_set, predict_label, model):\n",
    "    cm = confusion_matrix(x_test['real'], x_test[predict_label], labels = model.classes_)\n",
    "    disp = ConfusionMatrixDisplay(confusion_matrix = cm, display_labels = model.classes_)\n",
    "    disp.plot()\n",
    "    plt.show()"
   ]
  },
  {
   "cell_type": "code",
   "execution_count": 61,
   "id": "d88d9566",
   "metadata": {},
   "outputs": [
    {
     "data": {
      "image/png": "[encoded data removed]",
      "text/plain": [
       "<Figure size 640x480 with 2 Axes>"
      ]
     },
     "metadata": {},
     "output_type": "display_data"
    }
   ],
   "source": [
    "confusion_matrix_plot(x_test, 'prediction', model)"
   ]
  },
  {
   "cell_type": "code",
   "execution_count": 62,
   "id": "e4b39d83",
   "metadata": {},
   "outputs": [
    {
     "data": {
      "image/png": "[encoded data removed]",
      "text/plain": [
       "<Figure size 640x480 with 2 Axes>"
      ]
     },
     "metadata": {},
     "output_type": "display_data"
    }
   ],
   "source": [
    "confusion_matrix_plot(x_test, 'predict_threshold', model)"
   ]
  },
  {
   "cell_type": "markdown",
   "id": "bb110061",
   "metadata": {},
   "source": [
    "* Predicting fraud transactions is getting better, but worse at predicting non fraud."
   ]
  },
  {
   "cell_type": "markdown",
   "id": "1b63dcfe",
   "metadata": {},
   "source": [
    "#### SVM Classifier Model"
   ]
  },
  {
   "cell_type": "code",
   "execution_count": 63,
   "id": "0b0812a1",
   "metadata": {},
   "outputs": [],
   "source": [
    "from sklearn.svm import SVC"
   ]
  },
  {
   "cell_type": "code",
   "execution_count": 64,
   "id": "9367cf8b",
   "metadata": {},
   "outputs": [],
   "source": [
    "model_SVM = SVC(probability = True, random_state=50)"
   ]
  },
  {
   "cell_type": "code",
   "execution_count": 65,
   "id": "f764dc0d",
   "metadata": {},
   "outputs": [
    {
     "data": {
      "text/plain": [
       "SVC(probability=True, random_state=50)"
      ]
     },
     "execution_count": 65,
     "metadata": {},
     "output_type": "execute_result"
    }
   ],
   "source": [
    "model_SVM.fit(x_train, y_train)"
   ]
  },
  {
   "cell_type": "code",
   "execution_count": 67,
   "id": "7546d67e",
   "metadata": {},
   "outputs": [],
   "source": [
    "#Drop last predictions\n",
    "x_test = x_test.drop(columns = {'prediction','predict_threshold' ,'real'})"
   ]
  },
  {
   "cell_type": "code",
   "execution_count": 68,
   "id": "bee41987",
   "metadata": {},
   "outputs": [
    {
     "data": {
      "text/html": [
       "<div>\n",
       "<style scoped>\n",
       "    .dataframe tbody tr th:only-of-type {\n",
       "        vertical-align: middle;\n",
       "    }\n",
       "\n",
       "    .dataframe tbody tr th {\n",
       "        vertical-align: top;\n",
       "    }\n",
       "\n",
       "    .dataframe thead th {\n",
       "        text-align: right;\n",
       "    }\n",
       "</style>\n",
       "<table border=\"1\" class=\"dataframe\">\n",
       "  <thead>\n",
       "    <tr style=\"text-align: right;\">\n",
       "      <th></th>\n",
       "      <th>0</th>\n",
       "      <th>1</th>\n",
       "      <th>2</th>\n",
       "      <th>3</th>\n",
       "      <th>4</th>\n",
       "      <th>5</th>\n",
       "      <th>6</th>\n",
       "      <th>7</th>\n",
       "      <th>8</th>\n",
       "      <th>prediction</th>\n",
       "      <th>predict_threshold</th>\n",
       "    </tr>\n",
       "  </thead>\n",
       "  <tbody>\n",
       "    <tr>\n",
       "      <th>2107</th>\n",
       "      <td>1.0</td>\n",
       "      <td>0.615385</td>\n",
       "      <td>0.068271</td>\n",
       "      <td>0.901657</td>\n",
       "      <td>0.08</td>\n",
       "      <td>0.390338</td>\n",
       "      <td>0.437545</td>\n",
       "      <td>0.000108</td>\n",
       "      <td>0.629630</td>\n",
       "      <td>1.0</td>\n",
       "      <td>1.0</td>\n",
       "    </tr>\n",
       "    <tr>\n",
       "      <th>16459</th>\n",
       "      <td>0.5</td>\n",
       "      <td>0.846154</td>\n",
       "      <td>0.000134</td>\n",
       "      <td>0.875138</td>\n",
       "      <td>0.50</td>\n",
       "      <td>0.285644</td>\n",
       "      <td>0.784112</td>\n",
       "      <td>0.000654</td>\n",
       "      <td>0.555556</td>\n",
       "      <td>0.0</td>\n",
       "      <td>0.0</td>\n",
       "    </tr>\n",
       "    <tr>\n",
       "      <th>14423</th>\n",
       "      <td>0.0</td>\n",
       "      <td>0.769231</td>\n",
       "      <td>0.002103</td>\n",
       "      <td>0.697238</td>\n",
       "      <td>0.50</td>\n",
       "      <td>0.303691</td>\n",
       "      <td>0.780687</td>\n",
       "      <td>0.000094</td>\n",
       "      <td>0.543210</td>\n",
       "      <td>0.0</td>\n",
       "      <td>0.0</td>\n",
       "    </tr>\n",
       "    <tr>\n",
       "      <th>5765</th>\n",
       "      <td>1.0</td>\n",
       "      <td>0.846154</td>\n",
       "      <td>0.081779</td>\n",
       "      <td>0.342541</td>\n",
       "      <td>0.30</td>\n",
       "      <td>0.419338</td>\n",
       "      <td>0.813956</td>\n",
       "      <td>0.027160</td>\n",
       "      <td>0.456790</td>\n",
       "      <td>1.0</td>\n",
       "      <td>1.0</td>\n",
       "    </tr>\n",
       "    <tr>\n",
       "      <th>411</th>\n",
       "      <td>1.0</td>\n",
       "      <td>0.384615</td>\n",
       "      <td>0.001733</td>\n",
       "      <td>0.311602</td>\n",
       "      <td>0.28</td>\n",
       "      <td>0.381439</td>\n",
       "      <td>0.788449</td>\n",
       "      <td>0.000661</td>\n",
       "      <td>0.419753</td>\n",
       "      <td>1.0</td>\n",
       "      <td>1.0</td>\n",
       "    </tr>\n",
       "    <tr>\n",
       "      <th>...</th>\n",
       "      <td>...</td>\n",
       "      <td>...</td>\n",
       "      <td>...</td>\n",
       "      <td>...</td>\n",
       "      <td>...</td>\n",
       "      <td>...</td>\n",
       "      <td>...</td>\n",
       "      <td>...</td>\n",
       "      <td>...</td>\n",
       "      <td>...</td>\n",
       "      <td>...</td>\n",
       "    </tr>\n",
       "    <tr>\n",
       "      <th>10003</th>\n",
       "      <td>0.0</td>\n",
       "      <td>0.000000</td>\n",
       "      <td>0.005339</td>\n",
       "      <td>0.046409</td>\n",
       "      <td>0.24</td>\n",
       "      <td>0.459641</td>\n",
       "      <td>0.719607</td>\n",
       "      <td>0.000693</td>\n",
       "      <td>0.419753</td>\n",
       "      <td>0.0</td>\n",
       "      <td>0.0</td>\n",
       "    </tr>\n",
       "    <tr>\n",
       "      <th>11220</th>\n",
       "      <td>0.5</td>\n",
       "      <td>0.692308</td>\n",
       "      <td>0.006672</td>\n",
       "      <td>0.071823</td>\n",
       "      <td>0.24</td>\n",
       "      <td>0.489091</td>\n",
       "      <td>0.737319</td>\n",
       "      <td>0.001035</td>\n",
       "      <td>0.506173</td>\n",
       "      <td>0.0</td>\n",
       "      <td>0.0</td>\n",
       "    </tr>\n",
       "    <tr>\n",
       "      <th>2376</th>\n",
       "      <td>1.0</td>\n",
       "      <td>0.307692</td>\n",
       "      <td>0.025949</td>\n",
       "      <td>0.236464</td>\n",
       "      <td>0.32</td>\n",
       "      <td>0.367225</td>\n",
       "      <td>0.705886</td>\n",
       "      <td>0.000199</td>\n",
       "      <td>0.580247</td>\n",
       "      <td>1.0</td>\n",
       "      <td>1.0</td>\n",
       "    </tr>\n",
       "    <tr>\n",
       "      <th>8047</th>\n",
       "      <td>1.0</td>\n",
       "      <td>0.923077</td>\n",
       "      <td>0.079921</td>\n",
       "      <td>0.325967</td>\n",
       "      <td>0.02</td>\n",
       "      <td>0.224385</td>\n",
       "      <td>0.791471</td>\n",
       "      <td>0.005375</td>\n",
       "      <td>0.703704</td>\n",
       "      <td>1.0</td>\n",
       "      <td>1.0</td>\n",
       "    </tr>\n",
       "    <tr>\n",
       "      <th>6638</th>\n",
       "      <td>0.0</td>\n",
       "      <td>0.846154</td>\n",
       "      <td>0.069449</td>\n",
       "      <td>0.458564</td>\n",
       "      <td>0.10</td>\n",
       "      <td>0.419790</td>\n",
       "      <td>0.646678</td>\n",
       "      <td>0.000063</td>\n",
       "      <td>0.617284</td>\n",
       "      <td>1.0</td>\n",
       "      <td>1.0</td>\n",
       "    </tr>\n",
       "  </tbody>\n",
       "</table>\n",
       "<p>3861 rows × 11 columns</p>\n",
       "</div>"
      ],
      "text/plain": [
       "         0         1         2         3     4         5         6         7  \\\n",
       "2107   1.0  0.615385  0.068271  0.901657  0.08  0.390338  0.437545  0.000108   \n",
       "16459  0.5  0.846154  0.000134  0.875138  0.50  0.285644  0.784112  0.000654   \n",
       "14423  0.0  0.769231  0.002103  0.697238  0.50  0.303691  0.780687  0.000094   \n",
       "5765   1.0  0.846154  0.081779  0.342541  0.30  0.419338  0.813956  0.027160   \n",
       "411    1.0  0.384615  0.001733  0.311602  0.28  0.381439  0.788449  0.000661   \n",
       "...    ...       ...       ...       ...   ...       ...       ...       ...   \n",
       "10003  0.0  0.000000  0.005339  0.046409  0.24  0.459641  0.719607  0.000693   \n",
       "11220  0.5  0.692308  0.006672  0.071823  0.24  0.489091  0.737319  0.001035   \n",
       "2376   1.0  0.307692  0.025949  0.236464  0.32  0.367225  0.705886  0.000199   \n",
       "8047   1.0  0.923077  0.079921  0.325967  0.02  0.224385  0.791471  0.005375   \n",
       "6638   0.0  0.846154  0.069449  0.458564  0.10  0.419790  0.646678  0.000063   \n",
       "\n",
       "              8  prediction  predict_threshold  \n",
       "2107   0.629630         1.0                1.0  \n",
       "16459  0.555556         0.0                0.0  \n",
       "14423  0.543210         0.0                0.0  \n",
       "5765   0.456790         1.0                1.0  \n",
       "411    0.419753         1.0                1.0  \n",
       "...         ...         ...                ...  \n",
       "10003  0.419753         0.0                0.0  \n",
       "11220  0.506173         0.0                0.0  \n",
       "2376   0.580247         1.0                1.0  \n",
       "8047   0.703704         1.0                1.0  \n",
       "6638   0.617284         1.0                1.0  \n",
       "\n",
       "[3861 rows x 11 columns]"
      ]
     },
     "execution_count": 68,
     "metadata": {},
     "output_type": "execute_result"
    }
   ],
   "source": [
    "#Use 0.4 as threshold for LR model\n",
    "predict(model_SVM, x_test, 0.4)"
   ]
  },
  {
   "cell_type": "code",
   "execution_count": 69,
   "id": "ce2559cb",
   "metadata": {},
   "outputs": [
    {
     "name": "stdout",
     "output_type": "stream",
     "text": [
      "              precision    recall  f1-score   support\n",
      "\n",
      "         0.0       0.85      0.82      0.83      1939\n",
      "         1.0       0.83      0.85      0.84      1922\n",
      "\n",
      "    accuracy                           0.84      3861\n",
      "   macro avg       0.84      0.84      0.84      3861\n",
      "weighted avg       0.84      0.84      0.84      3861\n",
      "\n",
      "              precision    recall  f1-score   support\n",
      "\n",
      "         0.0       0.85      0.80      0.82      1939\n",
      "         1.0       0.81      0.86      0.83      1922\n",
      "\n",
      "    accuracy                           0.83      3861\n",
      "   macro avg       0.83      0.83      0.83      3861\n",
      "weighted avg       0.83      0.83      0.83      3861\n",
      "\n"
     ]
    }
   ],
   "source": [
    "x_test[\"real\"] = y_test[\"is_fraud\"]\n",
    "\n",
    "#With 0.5 threshold\n",
    "print(classification_report(x_test['real'], x_test['prediction']))\n",
    "#With 0.4 threshold\n",
    "print(classification_report(x_test['real'], x_test['predict_threshold']))"
   ]
  },
  {
   "cell_type": "markdown",
   "id": "d9b4f774",
   "metadata": {},
   "source": [
    "* In this case, it's more of a balanced metrics, and little improvement in recall. The f1-score is somewhat similar to Logistic Regression Model"
   ]
  },
  {
   "cell_type": "code",
   "execution_count": 70,
   "id": "8b802fba",
   "metadata": {},
   "outputs": [
    {
     "data": {
      "image/png": "[encoded data removed]",
      "text/plain": [
       "<Figure size 640x480 with 2 Axes>"
      ]
     },
     "metadata": {},
     "output_type": "display_data"
    }
   ],
   "source": [
    "confusion_matrix_plot(x_test, 'predict_threshold', model_SVM)"
   ]
  },
  {
   "cell_type": "markdown",
   "id": "26bf2d9f",
   "metadata": {},
   "source": [
    "#### XGBoost Model"
   ]
  },
  {
   "cell_type": "code",
   "execution_count": 73,
   "id": "bb996f60",
   "metadata": {},
   "outputs": [],
   "source": [
    "#Compare LR and SVC\n",
    "from xgboost import XGBClassifier"
   ]
  },
  {
   "cell_type": "code",
   "execution_count": 74,
   "id": "5892c7e8",
   "metadata": {},
   "outputs": [],
   "source": [
    "xgb = XGBClassifier(objective = 'binary:logistic')"
   ]
  },
  {
   "cell_type": "code",
   "execution_count": 76,
   "id": "03635ce7",
   "metadata": {},
   "outputs": [
    {
     "data": {
      "text/plain": [
       "XGBClassifier(base_score=0.5, booster='gbtree', callbacks=None,\n",
       "              colsample_bylevel=1, colsample_bynode=1, colsample_bytree=1,\n",
       "              early_stopping_rounds=None, enable_categorical=False,\n",
       "              eval_metric=None, gamma=0, gpu_id=-1, grow_policy='depthwise',\n",
       "              importance_type=None, interaction_constraints='',\n",
       "              learning_rate=0.300000012, max_bin=256, max_cat_to_onehot=4,\n",
       "              max_delta_step=0, max_depth=6, max_leaves=0, min_child_weight=1,\n",
       "              missing=nan, monotone_constraints='()', n_estimators=100,\n",
       "              n_jobs=0, num_parallel_tree=1, predictor='auto', random_state=0,\n",
       "              reg_alpha=0, reg_lambda=1, ...)"
      ]
     },
     "execution_count": 76,
     "metadata": {},
     "output_type": "execute_result"
    }
   ],
   "source": [
    "xgb.fit(x_train, y_train)"
   ]
  },
  {
   "cell_type": "code",
   "execution_count": 77,
   "id": "fc7443a6",
   "metadata": {},
   "outputs": [],
   "source": [
    "#Drop again last predictions\n",
    "x_test = x_test.drop(columns = {'prediction','predict_threshold' ,'real'})"
   ]
  },
  {
   "cell_type": "code",
   "execution_count": 78,
   "id": "891937ea",
   "metadata": {},
   "outputs": [
    {
     "data": {
      "text/html": [
       "<div>\n",
       "<style scoped>\n",
       "    .dataframe tbody tr th:only-of-type {\n",
       "        vertical-align: middle;\n",
       "    }\n",
       "\n",
       "    .dataframe tbody tr th {\n",
       "        vertical-align: top;\n",
       "    }\n",
       "\n",
       "    .dataframe thead th {\n",
       "        text-align: right;\n",
       "    }\n",
       "</style>\n",
       "<table border=\"1\" class=\"dataframe\">\n",
       "  <thead>\n",
       "    <tr style=\"text-align: right;\">\n",
       "      <th></th>\n",
       "      <th>0</th>\n",
       "      <th>1</th>\n",
       "      <th>2</th>\n",
       "      <th>3</th>\n",
       "      <th>4</th>\n",
       "      <th>5</th>\n",
       "      <th>6</th>\n",
       "      <th>7</th>\n",
       "      <th>8</th>\n",
       "      <th>prediction</th>\n",
       "      <th>predict_threshold</th>\n",
       "    </tr>\n",
       "  </thead>\n",
       "  <tbody>\n",
       "    <tr>\n",
       "      <th>2107</th>\n",
       "      <td>1.0</td>\n",
       "      <td>0.615385</td>\n",
       "      <td>0.068271</td>\n",
       "      <td>0.901657</td>\n",
       "      <td>0.08</td>\n",
       "      <td>0.390338</td>\n",
       "      <td>0.437545</td>\n",
       "      <td>0.000108</td>\n",
       "      <td>0.629630</td>\n",
       "      <td>1</td>\n",
       "      <td>1.0</td>\n",
       "    </tr>\n",
       "    <tr>\n",
       "      <th>16459</th>\n",
       "      <td>0.5</td>\n",
       "      <td>0.846154</td>\n",
       "      <td>0.000134</td>\n",
       "      <td>0.875138</td>\n",
       "      <td>0.50</td>\n",
       "      <td>0.285644</td>\n",
       "      <td>0.784112</td>\n",
       "      <td>0.000654</td>\n",
       "      <td>0.555556</td>\n",
       "      <td>0</td>\n",
       "      <td>0.0</td>\n",
       "    </tr>\n",
       "    <tr>\n",
       "      <th>14423</th>\n",
       "      <td>0.0</td>\n",
       "      <td>0.769231</td>\n",
       "      <td>0.002103</td>\n",
       "      <td>0.697238</td>\n",
       "      <td>0.50</td>\n",
       "      <td>0.303691</td>\n",
       "      <td>0.780687</td>\n",
       "      <td>0.000094</td>\n",
       "      <td>0.543210</td>\n",
       "      <td>0</td>\n",
       "      <td>0.0</td>\n",
       "    </tr>\n",
       "    <tr>\n",
       "      <th>5765</th>\n",
       "      <td>1.0</td>\n",
       "      <td>0.846154</td>\n",
       "      <td>0.081779</td>\n",
       "      <td>0.342541</td>\n",
       "      <td>0.30</td>\n",
       "      <td>0.419338</td>\n",
       "      <td>0.813956</td>\n",
       "      <td>0.027160</td>\n",
       "      <td>0.456790</td>\n",
       "      <td>1</td>\n",
       "      <td>1.0</td>\n",
       "    </tr>\n",
       "    <tr>\n",
       "      <th>411</th>\n",
       "      <td>1.0</td>\n",
       "      <td>0.384615</td>\n",
       "      <td>0.001733</td>\n",
       "      <td>0.311602</td>\n",
       "      <td>0.28</td>\n",
       "      <td>0.381439</td>\n",
       "      <td>0.788449</td>\n",
       "      <td>0.000661</td>\n",
       "      <td>0.419753</td>\n",
       "      <td>1</td>\n",
       "      <td>1.0</td>\n",
       "    </tr>\n",
       "    <tr>\n",
       "      <th>...</th>\n",
       "      <td>...</td>\n",
       "      <td>...</td>\n",
       "      <td>...</td>\n",
       "      <td>...</td>\n",
       "      <td>...</td>\n",
       "      <td>...</td>\n",
       "      <td>...</td>\n",
       "      <td>...</td>\n",
       "      <td>...</td>\n",
       "      <td>...</td>\n",
       "      <td>...</td>\n",
       "    </tr>\n",
       "    <tr>\n",
       "      <th>10003</th>\n",
       "      <td>0.0</td>\n",
       "      <td>0.000000</td>\n",
       "      <td>0.005339</td>\n",
       "      <td>0.046409</td>\n",
       "      <td>0.24</td>\n",
       "      <td>0.459641</td>\n",
       "      <td>0.719607</td>\n",
       "      <td>0.000693</td>\n",
       "      <td>0.419753</td>\n",
       "      <td>0</td>\n",
       "      <td>0.0</td>\n",
       "    </tr>\n",
       "    <tr>\n",
       "      <th>11220</th>\n",
       "      <td>0.5</td>\n",
       "      <td>0.692308</td>\n",
       "      <td>0.006672</td>\n",
       "      <td>0.071823</td>\n",
       "      <td>0.24</td>\n",
       "      <td>0.489091</td>\n",
       "      <td>0.737319</td>\n",
       "      <td>0.001035</td>\n",
       "      <td>0.506173</td>\n",
       "      <td>0</td>\n",
       "      <td>0.0</td>\n",
       "    </tr>\n",
       "    <tr>\n",
       "      <th>2376</th>\n",
       "      <td>1.0</td>\n",
       "      <td>0.307692</td>\n",
       "      <td>0.025949</td>\n",
       "      <td>0.236464</td>\n",
       "      <td>0.32</td>\n",
       "      <td>0.367225</td>\n",
       "      <td>0.705886</td>\n",
       "      <td>0.000199</td>\n",
       "      <td>0.580247</td>\n",
       "      <td>1</td>\n",
       "      <td>1.0</td>\n",
       "    </tr>\n",
       "    <tr>\n",
       "      <th>8047</th>\n",
       "      <td>1.0</td>\n",
       "      <td>0.923077</td>\n",
       "      <td>0.079921</td>\n",
       "      <td>0.325967</td>\n",
       "      <td>0.02</td>\n",
       "      <td>0.224385</td>\n",
       "      <td>0.791471</td>\n",
       "      <td>0.005375</td>\n",
       "      <td>0.703704</td>\n",
       "      <td>1</td>\n",
       "      <td>1.0</td>\n",
       "    </tr>\n",
       "    <tr>\n",
       "      <th>6638</th>\n",
       "      <td>0.0</td>\n",
       "      <td>0.846154</td>\n",
       "      <td>0.069449</td>\n",
       "      <td>0.458564</td>\n",
       "      <td>0.10</td>\n",
       "      <td>0.419790</td>\n",
       "      <td>0.646678</td>\n",
       "      <td>0.000063</td>\n",
       "      <td>0.617284</td>\n",
       "      <td>1</td>\n",
       "      <td>1.0</td>\n",
       "    </tr>\n",
       "  </tbody>\n",
       "</table>\n",
       "<p>3861 rows × 11 columns</p>\n",
       "</div>"
      ],
      "text/plain": [
       "         0         1         2         3     4         5         6         7  \\\n",
       "2107   1.0  0.615385  0.068271  0.901657  0.08  0.390338  0.437545  0.000108   \n",
       "16459  0.5  0.846154  0.000134  0.875138  0.50  0.285644  0.784112  0.000654   \n",
       "14423  0.0  0.769231  0.002103  0.697238  0.50  0.303691  0.780687  0.000094   \n",
       "5765   1.0  0.846154  0.081779  0.342541  0.30  0.419338  0.813956  0.027160   \n",
       "411    1.0  0.384615  0.001733  0.311602  0.28  0.381439  0.788449  0.000661   \n",
       "...    ...       ...       ...       ...   ...       ...       ...       ...   \n",
       "10003  0.0  0.000000  0.005339  0.046409  0.24  0.459641  0.719607  0.000693   \n",
       "11220  0.5  0.692308  0.006672  0.071823  0.24  0.489091  0.737319  0.001035   \n",
       "2376   1.0  0.307692  0.025949  0.236464  0.32  0.367225  0.705886  0.000199   \n",
       "8047   1.0  0.923077  0.079921  0.325967  0.02  0.224385  0.791471  0.005375   \n",
       "6638   0.0  0.846154  0.069449  0.458564  0.10  0.419790  0.646678  0.000063   \n",
       "\n",
       "              8  prediction  predict_threshold  \n",
       "2107   0.629630           1                1.0  \n",
       "16459  0.555556           0                0.0  \n",
       "14423  0.543210           0                0.0  \n",
       "5765   0.456790           1                1.0  \n",
       "411    0.419753           1                1.0  \n",
       "...         ...         ...                ...  \n",
       "10003  0.419753           0                0.0  \n",
       "11220  0.506173           0                0.0  \n",
       "2376   0.580247           1                1.0  \n",
       "8047   0.703704           1                1.0  \n",
       "6638   0.617284           1                1.0  \n",
       "\n",
       "[3861 rows x 11 columns]"
      ]
     },
     "execution_count": 78,
     "metadata": {},
     "output_type": "execute_result"
    }
   ],
   "source": [
    "#Experimenting 0.3 threshold for XGBoost model\n",
    "predict(xgb, x_test, 0.3)"
   ]
  },
  {
   "cell_type": "code",
   "execution_count": 79,
   "id": "28c2dbd3",
   "metadata": {},
   "outputs": [
    {
     "name": "stdout",
     "output_type": "stream",
     "text": [
      "              precision    recall  f1-score   support\n",
      "\n",
      "         0.0       0.97      0.97      0.97      1939\n",
      "         1.0       0.97      0.97      0.97      1922\n",
      "\n",
      "    accuracy                           0.97      3861\n",
      "   macro avg       0.97      0.97      0.97      3861\n",
      "weighted avg       0.97      0.97      0.97      3861\n",
      "\n",
      "              precision    recall  f1-score   support\n",
      "\n",
      "         0.0       0.99      0.96      0.97      1939\n",
      "         1.0       0.96      0.99      0.98      1922\n",
      "\n",
      "    accuracy                           0.98      3861\n",
      "   macro avg       0.98      0.98      0.98      3861\n",
      "weighted avg       0.98      0.98      0.98      3861\n",
      "\n"
     ]
    }
   ],
   "source": [
    "x_test[\"real\"] = y_test[\"is_fraud\"]\n",
    "print(classification_report(x_test['real'], x_test['prediction']))\n",
    "print(classification_report(x_test['real'], x_test['predict_threshold']))"
   ]
  },
  {
   "cell_type": "markdown",
   "id": "25e29708",
   "metadata": {},
   "source": [
    "* XGBoost got overall some much better results than the previous models, and reducing the threshold to 0.3 results to lessen worse model, which implies that there is a different ROC (Receiver Operating Curve) behavior to this model"
   ]
  },
  {
   "cell_type": "code",
   "execution_count": 80,
   "id": "37fd5839",
   "metadata": {},
   "outputs": [
    {
     "data": {
      "image/png": "[encoded data removed]",
      "text/plain": [
       "<Figure size 640x480 with 2 Axes>"
      ]
     },
     "metadata": {},
     "output_type": "display_data"
    }
   ],
   "source": [
    "confusion_matrix_plot(x_test, 'prediction', xgb)"
   ]
  }
 ],
 "metadata": {
  "kernelspec": {
   "display_name": "Python 3 (ipykernel)",
   "language": "python",
   "name": "python3"
  },
  "language_info": {
   "codemirror_mode": {
    "name": "ipython",
    "version": 3
   },
   "file_extension": ".py",
   "mimetype": "text/x-python",
   "name": "python",
   "nbconvert_exporter": "python",
   "pygments_lexer": "ipython3",
   "version": "3.7.7"
  }
 },
 "nbformat": 4,
 "nbformat_minor": 5
}
